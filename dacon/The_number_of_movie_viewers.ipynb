{
 "cells": [
  {
   "cell_type": "markdown",
   "id": "77d39d41",
   "metadata": {},
   "source": [
    "# 영화 관객수 예측 모델 개발\n",
    "감독, 이름, 상영등급, 스태프 수 등의 정보로 영화 관객 수를 예측하는 모델 만들기"
   ]
  },
  {
   "cell_type": "markdown",
   "id": "445c3102",
   "metadata": {},
   "source": [
    "## 1. 라이브러리 및 Data set 불러오기"
   ]
  },
  {
   "cell_type": "code",
   "execution_count": 1,
   "id": "c10c1593",
   "metadata": {},
   "outputs": [],
   "source": [
    "import pandas as pd\n",
    "import lightgbm as lgb\n",
    "import seaborn as sns\n",
    "import matplotlib.pyplot as plt\n",
    "%matplotlib inline"
   ]
  },
  {
   "cell_type": "code",
   "execution_count": 2,
   "id": "4a60fe36",
   "metadata": {},
   "outputs": [],
   "source": [
    "# 데이터 불러오기\n",
    "train = pd.read_csv('data/movies_train.csv')\n",
    "test = pd.read_csv('data/movies_test.csv')\n",
    "submission = pd.read_csv('data/submission.csv')"
   ]
  },
  {
   "cell_type": "markdown",
   "id": "e0e62c66",
   "metadata": {},
   "source": [
    "## 2. 탐색적 자료분석\n",
    "## Exploratory Data Analysis (EDA)\n",
    "- EDA란 : 수집한 데이터가 들어왔을 때, 이를 다양한 각도에서 관찰하고 이해하는 과정입니다. 한마디로 데이터를 분석하기 전에 그래프나 통계적인 방법으로 자료를 직관적으로 바라보는 과정입니다.\n"
   ]
  },
  {
   "cell_type": "markdown",
   "id": "26ade25a",
   "metadata": {},
   "source": [
    "+ title : 영화의 제목\n",
    "+ distributor : 배급사\n",
    "+ genre : 장르\n",
    "+ release_time : 개봉일\n",
    "+ time : 상영시간(분)\n",
    "+ screening_rat : 상영등급\n",
    "+ director : 감독이름\n",
    "+ dir_prev_bfnum : 해당 감독이 이 영화를 만들기 전 제작에 참여한 영화에서의 평균 관객수(단 관객수가 알려지지 않은 영화 제외)\n",
    "+ dir_prev_num : 해당 감독이 이 영화를 만들기 전 제작에 참여한 영화의 개수(단 관객수가 알려지지 않은 영화 제외)\n",
    "+ num_staff : 스텝수\n",
    "+ num_actor : 주연배우수\n",
    "+ box_off_num : 관객수"
   ]
  },
  {
   "cell_type": "code",
   "execution_count": 3,
   "id": "2a455085",
   "metadata": {},
   "outputs": [
    {
     "data": {
      "text/html": [
       "<div>\n",
       "<style scoped>\n",
       "    .dataframe tbody tr th:only-of-type {\n",
       "        vertical-align: middle;\n",
       "    }\n",
       "\n",
       "    .dataframe tbody tr th {\n",
       "        vertical-align: top;\n",
       "    }\n",
       "\n",
       "    .dataframe thead th {\n",
       "        text-align: right;\n",
       "    }\n",
       "</style>\n",
       "<table border=\"1\" class=\"dataframe\">\n",
       "  <thead>\n",
       "    <tr style=\"text-align: right;\">\n",
       "      <th></th>\n",
       "      <th>title</th>\n",
       "      <th>distributor</th>\n",
       "      <th>genre</th>\n",
       "      <th>release_time</th>\n",
       "      <th>time</th>\n",
       "      <th>screening_rat</th>\n",
       "      <th>director</th>\n",
       "      <th>dir_prev_bfnum</th>\n",
       "      <th>dir_prev_num</th>\n",
       "      <th>num_staff</th>\n",
       "      <th>num_actor</th>\n",
       "      <th>box_off_num</th>\n",
       "    </tr>\n",
       "  </thead>\n",
       "  <tbody>\n",
       "    <tr>\n",
       "      <th>0</th>\n",
       "      <td>개들의 전쟁</td>\n",
       "      <td>롯데엔터테인먼트</td>\n",
       "      <td>액션</td>\n",
       "      <td>2012-11-22</td>\n",
       "      <td>96</td>\n",
       "      <td>청소년 관람불가</td>\n",
       "      <td>조병옥</td>\n",
       "      <td>NaN</td>\n",
       "      <td>0</td>\n",
       "      <td>91</td>\n",
       "      <td>2</td>\n",
       "      <td>23398</td>\n",
       "    </tr>\n",
       "    <tr>\n",
       "      <th>1</th>\n",
       "      <td>내부자들</td>\n",
       "      <td>(주)쇼박스</td>\n",
       "      <td>느와르</td>\n",
       "      <td>2015-11-19</td>\n",
       "      <td>130</td>\n",
       "      <td>청소년 관람불가</td>\n",
       "      <td>우민호</td>\n",
       "      <td>1161602.50</td>\n",
       "      <td>2</td>\n",
       "      <td>387</td>\n",
       "      <td>3</td>\n",
       "      <td>7072501</td>\n",
       "    </tr>\n",
       "    <tr>\n",
       "      <th>2</th>\n",
       "      <td>은밀하게 위대하게</td>\n",
       "      <td>(주)쇼박스</td>\n",
       "      <td>액션</td>\n",
       "      <td>2013-06-05</td>\n",
       "      <td>123</td>\n",
       "      <td>15세 관람가</td>\n",
       "      <td>장철수</td>\n",
       "      <td>220775.25</td>\n",
       "      <td>4</td>\n",
       "      <td>343</td>\n",
       "      <td>4</td>\n",
       "      <td>6959083</td>\n",
       "    </tr>\n",
       "    <tr>\n",
       "      <th>3</th>\n",
       "      <td>나는 공무원이다</td>\n",
       "      <td>(주)NEW</td>\n",
       "      <td>코미디</td>\n",
       "      <td>2012-07-12</td>\n",
       "      <td>101</td>\n",
       "      <td>전체 관람가</td>\n",
       "      <td>구자홍</td>\n",
       "      <td>23894.00</td>\n",
       "      <td>2</td>\n",
       "      <td>20</td>\n",
       "      <td>6</td>\n",
       "      <td>217866</td>\n",
       "    </tr>\n",
       "    <tr>\n",
       "      <th>4</th>\n",
       "      <td>불량남녀</td>\n",
       "      <td>쇼박스(주)미디어플렉스</td>\n",
       "      <td>코미디</td>\n",
       "      <td>2010-11-04</td>\n",
       "      <td>108</td>\n",
       "      <td>15세 관람가</td>\n",
       "      <td>신근호</td>\n",
       "      <td>1.00</td>\n",
       "      <td>1</td>\n",
       "      <td>251</td>\n",
       "      <td>2</td>\n",
       "      <td>483387</td>\n",
       "    </tr>\n",
       "  </tbody>\n",
       "</table>\n",
       "</div>"
      ],
      "text/plain": [
       "       title   distributor genre release_time  time screening_rat director  \\\n",
       "0     개들의 전쟁      롯데엔터테인먼트    액션   2012-11-22    96      청소년 관람불가      조병옥   \n",
       "1       내부자들        (주)쇼박스   느와르   2015-11-19   130      청소년 관람불가      우민호   \n",
       "2  은밀하게 위대하게        (주)쇼박스    액션   2013-06-05   123       15세 관람가      장철수   \n",
       "3   나는 공무원이다        (주)NEW   코미디   2012-07-12   101        전체 관람가      구자홍   \n",
       "4       불량남녀  쇼박스(주)미디어플렉스   코미디   2010-11-04   108       15세 관람가      신근호   \n",
       "\n",
       "   dir_prev_bfnum  dir_prev_num  num_staff  num_actor  box_off_num  \n",
       "0             NaN             0         91          2        23398  \n",
       "1      1161602.50             2        387          3      7072501  \n",
       "2       220775.25             4        343          4      6959083  \n",
       "3        23894.00             2         20          6       217866  \n",
       "4            1.00             1        251          2       483387  "
      ]
     },
     "execution_count": 3,
     "metadata": {},
     "output_type": "execute_result"
    }
   ],
   "source": [
    "train.head()"
   ]
  },
  {
   "cell_type": "code",
   "execution_count": 4,
   "id": "904f2971",
   "metadata": {},
   "outputs": [
    {
     "data": {
      "text/html": [
       "<div>\n",
       "<style scoped>\n",
       "    .dataframe tbody tr th:only-of-type {\n",
       "        vertical-align: middle;\n",
       "    }\n",
       "\n",
       "    .dataframe tbody tr th {\n",
       "        vertical-align: top;\n",
       "    }\n",
       "\n",
       "    .dataframe thead th {\n",
       "        text-align: right;\n",
       "    }\n",
       "</style>\n",
       "<table border=\"1\" class=\"dataframe\">\n",
       "  <thead>\n",
       "    <tr style=\"text-align: right;\">\n",
       "      <th></th>\n",
       "      <th>title</th>\n",
       "      <th>distributor</th>\n",
       "      <th>genre</th>\n",
       "      <th>release_time</th>\n",
       "      <th>time</th>\n",
       "      <th>screening_rat</th>\n",
       "      <th>director</th>\n",
       "      <th>dir_prev_bfnum</th>\n",
       "      <th>dir_prev_num</th>\n",
       "      <th>num_staff</th>\n",
       "      <th>num_actor</th>\n",
       "      <th>box_off_num</th>\n",
       "    </tr>\n",
       "  </thead>\n",
       "  <tbody>\n",
       "    <tr>\n",
       "      <th>372</th>\n",
       "      <td>국제시장</td>\n",
       "      <td>CJ 엔터테인먼트</td>\n",
       "      <td>드라마</td>\n",
       "      <td>2014-12-17</td>\n",
       "      <td>126</td>\n",
       "      <td>12세 관람가</td>\n",
       "      <td>윤제균</td>\n",
       "      <td>NaN</td>\n",
       "      <td>0</td>\n",
       "      <td>869</td>\n",
       "      <td>4</td>\n",
       "      <td>14262766</td>\n",
       "    </tr>\n",
       "    <tr>\n",
       "      <th>362</th>\n",
       "      <td>도둑들</td>\n",
       "      <td>(주)쇼박스</td>\n",
       "      <td>느와르</td>\n",
       "      <td>2012-07-25</td>\n",
       "      <td>135</td>\n",
       "      <td>15세 관람가</td>\n",
       "      <td>최동훈</td>\n",
       "      <td>2.564692e+06</td>\n",
       "      <td>3</td>\n",
       "      <td>462</td>\n",
       "      <td>10</td>\n",
       "      <td>12983841</td>\n",
       "    </tr>\n",
       "    <tr>\n",
       "      <th>530</th>\n",
       "      <td>7번방의 선물</td>\n",
       "      <td>(주)NEW</td>\n",
       "      <td>코미디</td>\n",
       "      <td>2013-01-23</td>\n",
       "      <td>127</td>\n",
       "      <td>15세 관람가</td>\n",
       "      <td>이환경</td>\n",
       "      <td>8.190495e+05</td>\n",
       "      <td>2</td>\n",
       "      <td>300</td>\n",
       "      <td>8</td>\n",
       "      <td>12811435</td>\n",
       "    </tr>\n",
       "    <tr>\n",
       "      <th>498</th>\n",
       "      <td>암살</td>\n",
       "      <td>(주)쇼박스</td>\n",
       "      <td>액션</td>\n",
       "      <td>2015-07-22</td>\n",
       "      <td>139</td>\n",
       "      <td>15세 관람가</td>\n",
       "      <td>최동훈</td>\n",
       "      <td>5.169479e+06</td>\n",
       "      <td>4</td>\n",
       "      <td>628</td>\n",
       "      <td>3</td>\n",
       "      <td>12706663</td>\n",
       "    </tr>\n",
       "    <tr>\n",
       "      <th>460</th>\n",
       "      <td>광해, 왕이 된 남자</td>\n",
       "      <td>CJ 엔터테인먼트</td>\n",
       "      <td>드라마</td>\n",
       "      <td>2012-09-13</td>\n",
       "      <td>131</td>\n",
       "      <td>15세 관람가</td>\n",
       "      <td>추창민</td>\n",
       "      <td>1.552541e+06</td>\n",
       "      <td>2</td>\n",
       "      <td>402</td>\n",
       "      <td>3</td>\n",
       "      <td>12323595</td>\n",
       "    </tr>\n",
       "    <tr>\n",
       "      <th>122</th>\n",
       "      <td>변호인</td>\n",
       "      <td>(주)NEW</td>\n",
       "      <td>드라마</td>\n",
       "      <td>2013-12-18</td>\n",
       "      <td>127</td>\n",
       "      <td>15세 관람가</td>\n",
       "      <td>양우석</td>\n",
       "      <td>NaN</td>\n",
       "      <td>0</td>\n",
       "      <td>311</td>\n",
       "      <td>5</td>\n",
       "      <td>11374879</td>\n",
       "    </tr>\n",
       "    <tr>\n",
       "      <th>496</th>\n",
       "      <td>설국열차</td>\n",
       "      <td>CJ 엔터테인먼트</td>\n",
       "      <td>SF</td>\n",
       "      <td>2013-08-01</td>\n",
       "      <td>125</td>\n",
       "      <td>15세 관람가</td>\n",
       "      <td>봉준호</td>\n",
       "      <td>NaN</td>\n",
       "      <td>0</td>\n",
       "      <td>67</td>\n",
       "      <td>10</td>\n",
       "      <td>9350351</td>\n",
       "    </tr>\n",
       "    <tr>\n",
       "      <th>101</th>\n",
       "      <td>관상</td>\n",
       "      <td>(주)쇼박스</td>\n",
       "      <td>드라마</td>\n",
       "      <td>2013-09-11</td>\n",
       "      <td>139</td>\n",
       "      <td>15세 관람가</td>\n",
       "      <td>한재림</td>\n",
       "      <td>1.242778e+06</td>\n",
       "      <td>2</td>\n",
       "      <td>298</td>\n",
       "      <td>6</td>\n",
       "      <td>9135806</td>\n",
       "    </tr>\n",
       "    <tr>\n",
       "      <th>505</th>\n",
       "      <td>해적: 바다로 간 산적</td>\n",
       "      <td>롯데엔터테인먼트</td>\n",
       "      <td>SF</td>\n",
       "      <td>2014-08-06</td>\n",
       "      <td>130</td>\n",
       "      <td>12세 관람가</td>\n",
       "      <td>이석훈</td>\n",
       "      <td>1.843895e+06</td>\n",
       "      <td>3</td>\n",
       "      <td>868</td>\n",
       "      <td>2</td>\n",
       "      <td>8666208</td>\n",
       "    </tr>\n",
       "    <tr>\n",
       "      <th>476</th>\n",
       "      <td>수상한 그녀</td>\n",
       "      <td>CJ 엔터테인먼트</td>\n",
       "      <td>코미디</td>\n",
       "      <td>2014-01-22</td>\n",
       "      <td>124</td>\n",
       "      <td>15세 관람가</td>\n",
       "      <td>황동혁</td>\n",
       "      <td>2.781990e+06</td>\n",
       "      <td>2</td>\n",
       "      <td>437</td>\n",
       "      <td>5</td>\n",
       "      <td>8659725</td>\n",
       "    </tr>\n",
       "    <tr>\n",
       "      <th>322</th>\n",
       "      <td>히말라야</td>\n",
       "      <td>CJ 엔터테인먼트</td>\n",
       "      <td>드라마</td>\n",
       "      <td>2015-12-16</td>\n",
       "      <td>124</td>\n",
       "      <td>12세 관람가</td>\n",
       "      <td>이석훈</td>\n",
       "      <td>3.549473e+06</td>\n",
       "      <td>4</td>\n",
       "      <td>520</td>\n",
       "      <td>2</td>\n",
       "      <td>7759711</td>\n",
       "    </tr>\n",
       "    <tr>\n",
       "      <th>320</th>\n",
       "      <td>최종병기 활</td>\n",
       "      <td>롯데엔터테인먼트</td>\n",
       "      <td>액션</td>\n",
       "      <td>2011-08-10</td>\n",
       "      <td>122</td>\n",
       "      <td>15세 관람가</td>\n",
       "      <td>김한민</td>\n",
       "      <td>2.079989e+06</td>\n",
       "      <td>1</td>\n",
       "      <td>687</td>\n",
       "      <td>4</td>\n",
       "      <td>7482180</td>\n",
       "    </tr>\n",
       "    <tr>\n",
       "      <th>16</th>\n",
       "      <td>써니</td>\n",
       "      <td>CJ E&amp;M Pictures</td>\n",
       "      <td>코미디</td>\n",
       "      <td>2011-05-04</td>\n",
       "      <td>124</td>\n",
       "      <td>15세 관람가</td>\n",
       "      <td>강형철</td>\n",
       "      <td>8.223342e+06</td>\n",
       "      <td>1</td>\n",
       "      <td>572</td>\n",
       "      <td>11</td>\n",
       "      <td>7453715</td>\n",
       "    </tr>\n",
       "    <tr>\n",
       "      <th>599</th>\n",
       "      <td>베를린</td>\n",
       "      <td>CJ 엔터테인먼트</td>\n",
       "      <td>액션</td>\n",
       "      <td>2013-01-30</td>\n",
       "      <td>120</td>\n",
       "      <td>15세 관람가</td>\n",
       "      <td>류승완</td>\n",
       "      <td>NaN</td>\n",
       "      <td>0</td>\n",
       "      <td>363</td>\n",
       "      <td>5</td>\n",
       "      <td>7166532</td>\n",
       "    </tr>\n",
       "    <tr>\n",
       "      <th>1</th>\n",
       "      <td>내부자들</td>\n",
       "      <td>(주)쇼박스</td>\n",
       "      <td>느와르</td>\n",
       "      <td>2015-11-19</td>\n",
       "      <td>130</td>\n",
       "      <td>청소년 관람불가</td>\n",
       "      <td>우민호</td>\n",
       "      <td>1.161602e+06</td>\n",
       "      <td>2</td>\n",
       "      <td>387</td>\n",
       "      <td>3</td>\n",
       "      <td>7072501</td>\n",
       "    </tr>\n",
       "    <tr>\n",
       "      <th>2</th>\n",
       "      <td>은밀하게 위대하게</td>\n",
       "      <td>(주)쇼박스</td>\n",
       "      <td>액션</td>\n",
       "      <td>2013-06-05</td>\n",
       "      <td>123</td>\n",
       "      <td>15세 관람가</td>\n",
       "      <td>장철수</td>\n",
       "      <td>2.207752e+05</td>\n",
       "      <td>4</td>\n",
       "      <td>343</td>\n",
       "      <td>4</td>\n",
       "      <td>6959083</td>\n",
       "    </tr>\n",
       "    <tr>\n",
       "      <th>74</th>\n",
       "      <td>아저씨</td>\n",
       "      <td>CJ 엔터테인먼트</td>\n",
       "      <td>액션</td>\n",
       "      <td>2010-08-04</td>\n",
       "      <td>119</td>\n",
       "      <td>청소년 관람불가</td>\n",
       "      <td>이정범</td>\n",
       "      <td>NaN</td>\n",
       "      <td>0</td>\n",
       "      <td>509</td>\n",
       "      <td>2</td>\n",
       "      <td>6178665</td>\n",
       "    </tr>\n",
       "    <tr>\n",
       "      <th>561</th>\n",
       "      <td>숨바꼭질</td>\n",
       "      <td>(주)NEW</td>\n",
       "      <td>공포</td>\n",
       "      <td>2013-08-14</td>\n",
       "      <td>107</td>\n",
       "      <td>15세 관람가</td>\n",
       "      <td>허정</td>\n",
       "      <td>NaN</td>\n",
       "      <td>0</td>\n",
       "      <td>249</td>\n",
       "      <td>3</td>\n",
       "      <td>5604106</td>\n",
       "    </tr>\n",
       "    <tr>\n",
       "      <th>472</th>\n",
       "      <td>감시자들</td>\n",
       "      <td>(주)NEW</td>\n",
       "      <td>느와르</td>\n",
       "      <td>2013-07-03</td>\n",
       "      <td>119</td>\n",
       "      <td>15세 관람가</td>\n",
       "      <td>조의석</td>\n",
       "      <td>8.074100e+04</td>\n",
       "      <td>2</td>\n",
       "      <td>331</td>\n",
       "      <td>3</td>\n",
       "      <td>5508299</td>\n",
       "    </tr>\n",
       "    <tr>\n",
       "      <th>326</th>\n",
       "      <td>검은 사제들</td>\n",
       "      <td>CJ 엔터테인먼트</td>\n",
       "      <td>미스터리</td>\n",
       "      <td>2015-11-05</td>\n",
       "      <td>108</td>\n",
       "      <td>15세 관람가</td>\n",
       "      <td>장재현</td>\n",
       "      <td>6.720926e+06</td>\n",
       "      <td>2</td>\n",
       "      <td>369</td>\n",
       "      <td>2</td>\n",
       "      <td>5443049</td>\n",
       "    </tr>\n",
       "  </tbody>\n",
       "</table>\n",
       "</div>"
      ],
      "text/plain": [
       "            title      distributor genre release_time  time screening_rat  \\\n",
       "372          국제시장        CJ 엔터테인먼트   드라마   2014-12-17   126       12세 관람가   \n",
       "362           도둑들           (주)쇼박스   느와르   2012-07-25   135       15세 관람가   \n",
       "530       7번방의 선물           (주)NEW   코미디   2013-01-23   127       15세 관람가   \n",
       "498            암살           (주)쇼박스    액션   2015-07-22   139       15세 관람가   \n",
       "460   광해, 왕이 된 남자        CJ 엔터테인먼트   드라마   2012-09-13   131       15세 관람가   \n",
       "122           변호인           (주)NEW   드라마   2013-12-18   127       15세 관람가   \n",
       "496          설국열차        CJ 엔터테인먼트    SF   2013-08-01   125       15세 관람가   \n",
       "101            관상           (주)쇼박스   드라마   2013-09-11   139       15세 관람가   \n",
       "505  해적: 바다로 간 산적         롯데엔터테인먼트    SF   2014-08-06   130       12세 관람가   \n",
       "476        수상한 그녀        CJ 엔터테인먼트   코미디   2014-01-22   124       15세 관람가   \n",
       "322          히말라야        CJ 엔터테인먼트   드라마   2015-12-16   124       12세 관람가   \n",
       "320        최종병기 활         롯데엔터테인먼트    액션   2011-08-10   122       15세 관람가   \n",
       "16             써니  CJ E&M Pictures   코미디   2011-05-04   124       15세 관람가   \n",
       "599           베를린        CJ 엔터테인먼트    액션   2013-01-30   120       15세 관람가   \n",
       "1            내부자들           (주)쇼박스   느와르   2015-11-19   130      청소년 관람불가   \n",
       "2       은밀하게 위대하게           (주)쇼박스    액션   2013-06-05   123       15세 관람가   \n",
       "74            아저씨        CJ 엔터테인먼트    액션   2010-08-04   119      청소년 관람불가   \n",
       "561          숨바꼭질           (주)NEW    공포   2013-08-14   107       15세 관람가   \n",
       "472          감시자들           (주)NEW   느와르   2013-07-03   119       15세 관람가   \n",
       "326        검은 사제들        CJ 엔터테인먼트  미스터리   2015-11-05   108       15세 관람가   \n",
       "\n",
       "    director  dir_prev_bfnum  dir_prev_num  num_staff  num_actor  box_off_num  \n",
       "372      윤제균             NaN             0        869          4     14262766  \n",
       "362      최동훈    2.564692e+06             3        462         10     12983841  \n",
       "530      이환경    8.190495e+05             2        300          8     12811435  \n",
       "498      최동훈    5.169479e+06             4        628          3     12706663  \n",
       "460      추창민    1.552541e+06             2        402          3     12323595  \n",
       "122      양우석             NaN             0        311          5     11374879  \n",
       "496      봉준호             NaN             0         67         10      9350351  \n",
       "101      한재림    1.242778e+06             2        298          6      9135806  \n",
       "505      이석훈    1.843895e+06             3        868          2      8666208  \n",
       "476      황동혁    2.781990e+06             2        437          5      8659725  \n",
       "322      이석훈    3.549473e+06             4        520          2      7759711  \n",
       "320      김한민    2.079989e+06             1        687          4      7482180  \n",
       "16       강형철    8.223342e+06             1        572         11      7453715  \n",
       "599      류승완             NaN             0        363          5      7166532  \n",
       "1        우민호    1.161602e+06             2        387          3      7072501  \n",
       "2        장철수    2.207752e+05             4        343          4      6959083  \n",
       "74       이정범             NaN             0        509          2      6178665  \n",
       "561       허정             NaN             0        249          3      5604106  \n",
       "472      조의석    8.074100e+04             2        331          3      5508299  \n",
       "326      장재현    6.720926e+06             2        369          2      5443049  "
      ]
     },
     "execution_count": 4,
     "metadata": {},
     "output_type": "execute_result"
    }
   ],
   "source": [
    "train.sort_values(ascending = False,by = 'box_off_num').head(20)"
   ]
  },
  {
   "cell_type": "markdown",
   "id": "17b23f40",
   "metadata": {},
   "source": [
    "위 결과를 보면 스태프 수가 많으면 영화 관객수도 많은것 같다."
   ]
  },
  {
   "cell_type": "code",
   "execution_count": 5,
   "id": "f8bc195b",
   "metadata": {},
   "outputs": [
    {
     "data": {
      "text/html": [
       "<div>\n",
       "<style scoped>\n",
       "    .dataframe tbody tr th:only-of-type {\n",
       "        vertical-align: middle;\n",
       "    }\n",
       "\n",
       "    .dataframe tbody tr th {\n",
       "        vertical-align: top;\n",
       "    }\n",
       "\n",
       "    .dataframe thead th {\n",
       "        text-align: right;\n",
       "    }\n",
       "</style>\n",
       "<table border=\"1\" class=\"dataframe\">\n",
       "  <thead>\n",
       "    <tr style=\"text-align: right;\">\n",
       "      <th></th>\n",
       "      <th>title</th>\n",
       "      <th>box_off_num</th>\n",
       "    </tr>\n",
       "  </thead>\n",
       "  <tbody>\n",
       "    <tr>\n",
       "      <th>0</th>\n",
       "      <td>개들의 전쟁</td>\n",
       "      <td>23398</td>\n",
       "    </tr>\n",
       "    <tr>\n",
       "      <th>1</th>\n",
       "      <td>내부자들</td>\n",
       "      <td>7072501</td>\n",
       "    </tr>\n",
       "    <tr>\n",
       "      <th>2</th>\n",
       "      <td>은밀하게 위대하게</td>\n",
       "      <td>6959083</td>\n",
       "    </tr>\n",
       "    <tr>\n",
       "      <th>3</th>\n",
       "      <td>나는 공무원이다</td>\n",
       "      <td>217866</td>\n",
       "    </tr>\n",
       "    <tr>\n",
       "      <th>4</th>\n",
       "      <td>불량남녀</td>\n",
       "      <td>483387</td>\n",
       "    </tr>\n",
       "  </tbody>\n",
       "</table>\n",
       "</div>"
      ],
      "text/plain": [
       "       title  box_off_num\n",
       "0     개들의 전쟁        23398\n",
       "1       내부자들      7072501\n",
       "2  은밀하게 위대하게      6959083\n",
       "3   나는 공무원이다       217866\n",
       "4       불량남녀       483387"
      ]
     },
     "execution_count": 5,
     "metadata": {},
     "output_type": "execute_result"
    }
   ],
   "source": [
    "train[['title','box_off_num']].head()"
   ]
  },
  {
   "cell_type": "code",
   "execution_count": 6,
   "id": "6e8d37c9",
   "metadata": {},
   "outputs": [
    {
     "data": {
      "text/html": [
       "<div>\n",
       "<style scoped>\n",
       "    .dataframe tbody tr th:only-of-type {\n",
       "        vertical-align: middle;\n",
       "    }\n",
       "\n",
       "    .dataframe tbody tr th {\n",
       "        vertical-align: top;\n",
       "    }\n",
       "\n",
       "    .dataframe thead th {\n",
       "        text-align: right;\n",
       "    }\n",
       "</style>\n",
       "<table border=\"1\" class=\"dataframe\">\n",
       "  <thead>\n",
       "    <tr style=\"text-align: right;\">\n",
       "      <th></th>\n",
       "      <th>title</th>\n",
       "      <th>distributor</th>\n",
       "      <th>genre</th>\n",
       "      <th>release_time</th>\n",
       "      <th>time</th>\n",
       "      <th>screening_rat</th>\n",
       "      <th>director</th>\n",
       "      <th>dir_prev_bfnum</th>\n",
       "      <th>dir_prev_num</th>\n",
       "      <th>num_staff</th>\n",
       "      <th>num_actor</th>\n",
       "    </tr>\n",
       "  </thead>\n",
       "  <tbody>\n",
       "    <tr>\n",
       "      <th>0</th>\n",
       "      <td>용서는 없다</td>\n",
       "      <td>시네마서비스</td>\n",
       "      <td>느와르</td>\n",
       "      <td>2010-01-07</td>\n",
       "      <td>125</td>\n",
       "      <td>청소년 관람불가</td>\n",
       "      <td>김형준</td>\n",
       "      <td>3.005290e+05</td>\n",
       "      <td>2</td>\n",
       "      <td>304</td>\n",
       "      <td>3</td>\n",
       "    </tr>\n",
       "    <tr>\n",
       "      <th>1</th>\n",
       "      <td>아빠가 여자를 좋아해</td>\n",
       "      <td>(주)쇼박스</td>\n",
       "      <td>멜로/로맨스</td>\n",
       "      <td>2010-01-14</td>\n",
       "      <td>113</td>\n",
       "      <td>12세 관람가</td>\n",
       "      <td>이광재</td>\n",
       "      <td>3.427002e+05</td>\n",
       "      <td>4</td>\n",
       "      <td>275</td>\n",
       "      <td>3</td>\n",
       "    </tr>\n",
       "    <tr>\n",
       "      <th>2</th>\n",
       "      <td>하모니</td>\n",
       "      <td>CJ 엔터테인먼트</td>\n",
       "      <td>드라마</td>\n",
       "      <td>2010-01-28</td>\n",
       "      <td>115</td>\n",
       "      <td>12세 관람가</td>\n",
       "      <td>강대규</td>\n",
       "      <td>4.206611e+06</td>\n",
       "      <td>3</td>\n",
       "      <td>419</td>\n",
       "      <td>7</td>\n",
       "    </tr>\n",
       "    <tr>\n",
       "      <th>3</th>\n",
       "      <td>의형제</td>\n",
       "      <td>(주)쇼박스</td>\n",
       "      <td>액션</td>\n",
       "      <td>2010-02-04</td>\n",
       "      <td>116</td>\n",
       "      <td>15세 관람가</td>\n",
       "      <td>장훈</td>\n",
       "      <td>6.913420e+05</td>\n",
       "      <td>2</td>\n",
       "      <td>408</td>\n",
       "      <td>2</td>\n",
       "    </tr>\n",
       "    <tr>\n",
       "      <th>4</th>\n",
       "      <td>평행 이론</td>\n",
       "      <td>CJ 엔터테인먼트</td>\n",
       "      <td>공포</td>\n",
       "      <td>2010-02-18</td>\n",
       "      <td>110</td>\n",
       "      <td>15세 관람가</td>\n",
       "      <td>권호영</td>\n",
       "      <td>3.173800e+04</td>\n",
       "      <td>1</td>\n",
       "      <td>380</td>\n",
       "      <td>1</td>\n",
       "    </tr>\n",
       "  </tbody>\n",
       "</table>\n",
       "</div>"
      ],
      "text/plain": [
       "         title distributor   genre release_time  time screening_rat director  \\\n",
       "0       용서는 없다      시네마서비스     느와르   2010-01-07   125      청소년 관람불가      김형준   \n",
       "1  아빠가 여자를 좋아해      (주)쇼박스  멜로/로맨스   2010-01-14   113       12세 관람가      이광재   \n",
       "2          하모니   CJ 엔터테인먼트     드라마   2010-01-28   115       12세 관람가      강대규   \n",
       "3          의형제      (주)쇼박스      액션   2010-02-04   116       15세 관람가       장훈   \n",
       "4        평행 이론   CJ 엔터테인먼트      공포   2010-02-18   110       15세 관람가      권호영   \n",
       "\n",
       "   dir_prev_bfnum  dir_prev_num  num_staff  num_actor  \n",
       "0    3.005290e+05             2        304          3  \n",
       "1    3.427002e+05             4        275          3  \n",
       "2    4.206611e+06             3        419          7  \n",
       "3    6.913420e+05             2        408          2  \n",
       "4    3.173800e+04             1        380          1  "
      ]
     },
     "execution_count": 6,
     "metadata": {},
     "output_type": "execute_result"
    }
   ],
   "source": [
    "test.head()"
   ]
  },
  {
   "cell_type": "code",
   "execution_count": 7,
   "id": "c785a09c",
   "metadata": {},
   "outputs": [
    {
     "data": {
      "text/html": [
       "<div>\n",
       "<style scoped>\n",
       "    .dataframe tbody tr th:only-of-type {\n",
       "        vertical-align: middle;\n",
       "    }\n",
       "\n",
       "    .dataframe tbody tr th {\n",
       "        vertical-align: top;\n",
       "    }\n",
       "\n",
       "    .dataframe thead th {\n",
       "        text-align: right;\n",
       "    }\n",
       "</style>\n",
       "<table border=\"1\" class=\"dataframe\">\n",
       "  <thead>\n",
       "    <tr style=\"text-align: right;\">\n",
       "      <th></th>\n",
       "      <th>title</th>\n",
       "      <th>box_off_num</th>\n",
       "    </tr>\n",
       "  </thead>\n",
       "  <tbody>\n",
       "    <tr>\n",
       "      <th>0</th>\n",
       "      <td>용서는 없다</td>\n",
       "      <td>0</td>\n",
       "    </tr>\n",
       "    <tr>\n",
       "      <th>1</th>\n",
       "      <td>아빠가 여자를 좋아해</td>\n",
       "      <td>0</td>\n",
       "    </tr>\n",
       "    <tr>\n",
       "      <th>2</th>\n",
       "      <td>하모니</td>\n",
       "      <td>0</td>\n",
       "    </tr>\n",
       "    <tr>\n",
       "      <th>3</th>\n",
       "      <td>의형제</td>\n",
       "      <td>0</td>\n",
       "    </tr>\n",
       "    <tr>\n",
       "      <th>4</th>\n",
       "      <td>평행 이론</td>\n",
       "      <td>0</td>\n",
       "    </tr>\n",
       "  </tbody>\n",
       "</table>\n",
       "</div>"
      ],
      "text/plain": [
       "         title  box_off_num\n",
       "0       용서는 없다            0\n",
       "1  아빠가 여자를 좋아해            0\n",
       "2          하모니            0\n",
       "3          의형제            0\n",
       "4        평행 이론            0"
      ]
     },
     "execution_count": 7,
     "metadata": {},
     "output_type": "execute_result"
    }
   ],
   "source": [
    "submission.head()"
   ]
  },
  {
   "cell_type": "markdown",
   "id": "7ebfa64b",
   "metadata": {},
   "source": [
    "데이터 불러오기를 해서 보자. train 데이터는 모델 학습을 위한 데이터이다. test데이터는 관객수가 없는 데이터이고, submission 데이터는 제출을 위한 품을 제공하는 데이터로 test 데이터와 index가 같다고 한다."
   ]
  },
  {
   "cell_type": "markdown",
   "id": "31fba99a",
   "metadata": {},
   "source": [
    "#### 함수 shape를 사용하여 행의 개수, 열의 개수를 확인 할 수 있다."
   ]
  },
  {
   "cell_type": "code",
   "execution_count": 8,
   "id": "afd6d5d5",
   "metadata": {},
   "outputs": [
    {
     "name": "stdout",
     "output_type": "stream",
     "text": [
      "(600, 12)\n",
      "(243, 11)\n",
      "(243, 2)\n"
     ]
    }
   ],
   "source": [
    "print(train.shape)\n",
    "print(test.shape)\n",
    "print(submission.shape)"
   ]
  },
  {
   "cell_type": "markdown",
   "id": "90ddc7b1",
   "metadata": {},
   "source": [
    "##### 함수 info는 데이터의 column별 정보를 알려주는 함수이다. 비어있지 않은 값(non-null) 개수, column의 타입은 무엇인지도 알려준다.\n",
    " - type의 종류 : int(정수), float(실수), object(문자열), 등등 (date, ...)"
   ]
  },
  {
   "cell_type": "code",
   "execution_count": 9,
   "id": "7dbe07bc",
   "metadata": {
    "scrolled": true
   },
   "outputs": [
    {
     "name": "stdout",
     "output_type": "stream",
     "text": [
      "<class 'pandas.core.frame.DataFrame'>\n",
      "RangeIndex: 600 entries, 0 to 599\n",
      "Data columns (total 12 columns):\n",
      " #   Column          Non-Null Count  Dtype  \n",
      "---  ------          --------------  -----  \n",
      " 0   title           600 non-null    object \n",
      " 1   distributor     600 non-null    object \n",
      " 2   genre           600 non-null    object \n",
      " 3   release_time    600 non-null    object \n",
      " 4   time            600 non-null    int64  \n",
      " 5   screening_rat   600 non-null    object \n",
      " 6   director        600 non-null    object \n",
      " 7   dir_prev_bfnum  270 non-null    float64\n",
      " 8   dir_prev_num    600 non-null    int64  \n",
      " 9   num_staff       600 non-null    int64  \n",
      " 10  num_actor       600 non-null    int64  \n",
      " 11  box_off_num     600 non-null    int64  \n",
      "dtypes: float64(1), int64(5), object(6)\n",
      "memory usage: 56.4+ KB\n"
     ]
    }
   ],
   "source": [
    "train.info()"
   ]
  },
  {
   "cell_type": "markdown",
   "id": "7a73738e",
   "metadata": {},
   "source": [
    "위 train데이터를 보면 dir_prev_dfnum은 270개가 채워져 있고 나머지 330개는 채워지지 않았다는것을 알수 있다."
   ]
  },
  {
   "cell_type": "code",
   "execution_count": 10,
   "id": "66709829",
   "metadata": {},
   "outputs": [
    {
     "name": "stdout",
     "output_type": "stream",
     "text": [
      "<class 'pandas.core.frame.DataFrame'>\n",
      "RangeIndex: 243 entries, 0 to 242\n",
      "Data columns (total 11 columns):\n",
      " #   Column          Non-Null Count  Dtype  \n",
      "---  ------          --------------  -----  \n",
      " 0   title           243 non-null    object \n",
      " 1   distributor     243 non-null    object \n",
      " 2   genre           243 non-null    object \n",
      " 3   release_time    243 non-null    object \n",
      " 4   time            243 non-null    int64  \n",
      " 5   screening_rat   243 non-null    object \n",
      " 6   director        243 non-null    object \n",
      " 7   dir_prev_bfnum  107 non-null    float64\n",
      " 8   dir_prev_num    243 non-null    int64  \n",
      " 9   num_staff       243 non-null    int64  \n",
      " 10  num_actor       243 non-null    int64  \n",
      "dtypes: float64(1), int64(4), object(6)\n",
      "memory usage: 21.0+ KB\n"
     ]
    }
   ],
   "source": [
    "test.info()"
   ]
  },
  {
   "cell_type": "markdown",
   "id": "065f051b",
   "metadata": {},
   "source": [
    "위 test데이터도 보면 dir_prev_dfnum은 107개가 채워져 있고 나머지 채워지지 않았다는것을 알수 있다."
   ]
  },
  {
   "cell_type": "markdown",
   "id": "9a4fb442",
   "metadata": {},
   "source": [
    "## groupby함수로 그룹을 만들수 있다. "
   ]
  },
  {
   "cell_type": "code",
   "execution_count": 11,
   "id": "6c55f624",
   "metadata": {},
   "outputs": [
    {
     "data": {
      "text/html": [
       "<div>\n",
       "<style scoped>\n",
       "    .dataframe tbody tr th:only-of-type {\n",
       "        vertical-align: middle;\n",
       "    }\n",
       "\n",
       "    .dataframe tbody tr th {\n",
       "        vertical-align: top;\n",
       "    }\n",
       "\n",
       "    .dataframe thead th {\n",
       "        text-align: right;\n",
       "    }\n",
       "</style>\n",
       "<table border=\"1\" class=\"dataframe\">\n",
       "  <thead>\n",
       "    <tr style=\"text-align: right;\">\n",
       "      <th></th>\n",
       "      <th>box_off_num</th>\n",
       "    </tr>\n",
       "    <tr>\n",
       "      <th>genre</th>\n",
       "      <th></th>\n",
       "    </tr>\n",
       "  </thead>\n",
       "  <tbody>\n",
       "    <tr>\n",
       "      <th>뮤지컬</th>\n",
       "      <td>6.627000e+03</td>\n",
       "    </tr>\n",
       "    <tr>\n",
       "      <th>다큐멘터리</th>\n",
       "      <td>6.717226e+04</td>\n",
       "    </tr>\n",
       "    <tr>\n",
       "      <th>서스펜스</th>\n",
       "      <td>8.261100e+04</td>\n",
       "    </tr>\n",
       "    <tr>\n",
       "      <th>애니메이션</th>\n",
       "      <td>1.819267e+05</td>\n",
       "    </tr>\n",
       "    <tr>\n",
       "      <th>멜로/로맨스</th>\n",
       "      <td>4.259680e+05</td>\n",
       "    </tr>\n",
       "    <tr>\n",
       "      <th>미스터리</th>\n",
       "      <td>5.275482e+05</td>\n",
       "    </tr>\n",
       "    <tr>\n",
       "      <th>공포</th>\n",
       "      <td>5.908325e+05</td>\n",
       "    </tr>\n",
       "    <tr>\n",
       "      <th>드라마</th>\n",
       "      <td>6.256898e+05</td>\n",
       "    </tr>\n",
       "    <tr>\n",
       "      <th>코미디</th>\n",
       "      <td>1.193914e+06</td>\n",
       "    </tr>\n",
       "    <tr>\n",
       "      <th>SF</th>\n",
       "      <td>1.788346e+06</td>\n",
       "    </tr>\n",
       "    <tr>\n",
       "      <th>액션</th>\n",
       "      <td>2.203974e+06</td>\n",
       "    </tr>\n",
       "    <tr>\n",
       "      <th>느와르</th>\n",
       "      <td>2.263695e+06</td>\n",
       "    </tr>\n",
       "  </tbody>\n",
       "</table>\n",
       "</div>"
      ],
      "text/plain": [
       "         box_off_num\n",
       "genre               \n",
       "뮤지컬     6.627000e+03\n",
       "다큐멘터리   6.717226e+04\n",
       "서스펜스    8.261100e+04\n",
       "애니메이션   1.819267e+05\n",
       "멜로/로맨스  4.259680e+05\n",
       "미스터리    5.275482e+05\n",
       "공포      5.908325e+05\n",
       "드라마     6.256898e+05\n",
       "코미디     1.193914e+06\n",
       "SF      1.788346e+06\n",
       "액션      2.203974e+06\n",
       "느와르     2.263695e+06"
      ]
     },
     "execution_count": 11,
     "metadata": {},
     "output_type": "execute_result"
    }
   ],
   "source": [
    "train[['genre', 'box_off_num']].groupby('genre').mean().sort_values('box_off_num')"
   ]
  },
  {
   "cell_type": "markdown",
   "id": "2ab68cbf",
   "metadata": {},
   "source": [
    "genre,box_off_num를 genre로 그룹바이한후 mean으로 평균을 산출해서 sort_values로 정렬해준다."
   ]
  },
  {
   "cell_type": "markdown",
   "id": "2f4e4977",
   "metadata": {},
   "source": [
    "위 관객수로만 보면 액션 느와르가 가장 인기가 좋은것을 확인 할 수 있다."
   ]
  },
  {
   "cell_type": "code",
   "execution_count": 12,
   "id": "275cdd25",
   "metadata": {},
   "outputs": [
    {
     "data": {
      "text/html": [
       "<div>\n",
       "<style scoped>\n",
       "    .dataframe tbody tr th:only-of-type {\n",
       "        vertical-align: middle;\n",
       "    }\n",
       "\n",
       "    .dataframe tbody tr th {\n",
       "        vertical-align: top;\n",
       "    }\n",
       "\n",
       "    .dataframe thead th {\n",
       "        text-align: right;\n",
       "    }\n",
       "</style>\n",
       "<table border=\"1\" class=\"dataframe\">\n",
       "  <thead>\n",
       "    <tr style=\"text-align: right;\">\n",
       "      <th></th>\n",
       "      <th>time</th>\n",
       "      <th>dir_prev_bfnum</th>\n",
       "      <th>dir_prev_num</th>\n",
       "      <th>num_staff</th>\n",
       "      <th>num_actor</th>\n",
       "      <th>box_off_num</th>\n",
       "    </tr>\n",
       "  </thead>\n",
       "  <tbody>\n",
       "    <tr>\n",
       "      <th>count</th>\n",
       "      <td>600.000000</td>\n",
       "      <td>2.700000e+02</td>\n",
       "      <td>600.000000</td>\n",
       "      <td>600.000000</td>\n",
       "      <td>600.000000</td>\n",
       "      <td>6.000000e+02</td>\n",
       "    </tr>\n",
       "    <tr>\n",
       "      <th>mean</th>\n",
       "      <td>100.863333</td>\n",
       "      <td>1.050443e+06</td>\n",
       "      <td>0.876667</td>\n",
       "      <td>151.118333</td>\n",
       "      <td>3.706667</td>\n",
       "      <td>7.081818e+05</td>\n",
       "    </tr>\n",
       "    <tr>\n",
       "      <th>std</th>\n",
       "      <td>18.097528</td>\n",
       "      <td>1.791408e+06</td>\n",
       "      <td>1.183409</td>\n",
       "      <td>165.654671</td>\n",
       "      <td>2.446889</td>\n",
       "      <td>1.828006e+06</td>\n",
       "    </tr>\n",
       "    <tr>\n",
       "      <th>min</th>\n",
       "      <td>45.000000</td>\n",
       "      <td>1.000000e+00</td>\n",
       "      <td>0.000000</td>\n",
       "      <td>0.000000</td>\n",
       "      <td>0.000000</td>\n",
       "      <td>1.000000e+00</td>\n",
       "    </tr>\n",
       "    <tr>\n",
       "      <th>25%</th>\n",
       "      <td>89.000000</td>\n",
       "      <td>2.038000e+04</td>\n",
       "      <td>0.000000</td>\n",
       "      <td>17.000000</td>\n",
       "      <td>2.000000</td>\n",
       "      <td>1.297250e+03</td>\n",
       "    </tr>\n",
       "    <tr>\n",
       "      <th>50%</th>\n",
       "      <td>100.000000</td>\n",
       "      <td>4.784236e+05</td>\n",
       "      <td>0.000000</td>\n",
       "      <td>82.500000</td>\n",
       "      <td>3.000000</td>\n",
       "      <td>1.259100e+04</td>\n",
       "    </tr>\n",
       "    <tr>\n",
       "      <th>75%</th>\n",
       "      <td>114.000000</td>\n",
       "      <td>1.286569e+06</td>\n",
       "      <td>2.000000</td>\n",
       "      <td>264.000000</td>\n",
       "      <td>4.000000</td>\n",
       "      <td>4.798868e+05</td>\n",
       "    </tr>\n",
       "    <tr>\n",
       "      <th>max</th>\n",
       "      <td>180.000000</td>\n",
       "      <td>1.761531e+07</td>\n",
       "      <td>5.000000</td>\n",
       "      <td>869.000000</td>\n",
       "      <td>25.000000</td>\n",
       "      <td>1.426277e+07</td>\n",
       "    </tr>\n",
       "  </tbody>\n",
       "</table>\n",
       "</div>"
      ],
      "text/plain": [
       "             time  dir_prev_bfnum  dir_prev_num   num_staff   num_actor  \\\n",
       "count  600.000000    2.700000e+02    600.000000  600.000000  600.000000   \n",
       "mean   100.863333    1.050443e+06      0.876667  151.118333    3.706667   \n",
       "std     18.097528    1.791408e+06      1.183409  165.654671    2.446889   \n",
       "min     45.000000    1.000000e+00      0.000000    0.000000    0.000000   \n",
       "25%     89.000000    2.038000e+04      0.000000   17.000000    2.000000   \n",
       "50%    100.000000    4.784236e+05      0.000000   82.500000    3.000000   \n",
       "75%    114.000000    1.286569e+06      2.000000  264.000000    4.000000   \n",
       "max    180.000000    1.761531e+07      5.000000  869.000000   25.000000   \n",
       "\n",
       "        box_off_num  \n",
       "count  6.000000e+02  \n",
       "mean   7.081818e+05  \n",
       "std    1.828006e+06  \n",
       "min    1.000000e+00  \n",
       "25%    1.297250e+03  \n",
       "50%    1.259100e+04  \n",
       "75%    4.798868e+05  \n",
       "max    1.426277e+07  "
      ]
     },
     "execution_count": 12,
     "metadata": {},
     "output_type": "execute_result"
    }
   ],
   "source": [
    "train.describe()"
   ]
  },
  {
   "cell_type": "markdown",
   "id": "a249cb36",
   "metadata": {},
   "source": [
    "### corr함수(correlation coefficient) 상관계수를 확인하는 함수 "
   ]
  },
  {
   "cell_type": "code",
   "execution_count": 13,
   "id": "8fb326fe",
   "metadata": {},
   "outputs": [
    {
     "data": {
      "text/html": [
       "<div>\n",
       "<style scoped>\n",
       "    .dataframe tbody tr th:only-of-type {\n",
       "        vertical-align: middle;\n",
       "    }\n",
       "\n",
       "    .dataframe tbody tr th {\n",
       "        vertical-align: top;\n",
       "    }\n",
       "\n",
       "    .dataframe thead th {\n",
       "        text-align: right;\n",
       "    }\n",
       "</style>\n",
       "<table border=\"1\" class=\"dataframe\">\n",
       "  <thead>\n",
       "    <tr style=\"text-align: right;\">\n",
       "      <th></th>\n",
       "      <th>time</th>\n",
       "      <th>dir_prev_bfnum</th>\n",
       "      <th>dir_prev_num</th>\n",
       "      <th>num_staff</th>\n",
       "      <th>num_actor</th>\n",
       "      <th>box_off_num</th>\n",
       "    </tr>\n",
       "  </thead>\n",
       "  <tbody>\n",
       "    <tr>\n",
       "      <th>time</th>\n",
       "      <td>1.000000</td>\n",
       "      <td>0.264675</td>\n",
       "      <td>0.306727</td>\n",
       "      <td>0.623205</td>\n",
       "      <td>0.114153</td>\n",
       "      <td>0.441452</td>\n",
       "    </tr>\n",
       "    <tr>\n",
       "      <th>dir_prev_bfnum</th>\n",
       "      <td>0.264675</td>\n",
       "      <td>1.000000</td>\n",
       "      <td>0.131822</td>\n",
       "      <td>0.323521</td>\n",
       "      <td>0.083818</td>\n",
       "      <td>0.283184</td>\n",
       "    </tr>\n",
       "    <tr>\n",
       "      <th>dir_prev_num</th>\n",
       "      <td>0.306727</td>\n",
       "      <td>0.131822</td>\n",
       "      <td>1.000000</td>\n",
       "      <td>0.450706</td>\n",
       "      <td>0.014006</td>\n",
       "      <td>0.259674</td>\n",
       "    </tr>\n",
       "    <tr>\n",
       "      <th>num_staff</th>\n",
       "      <td>0.623205</td>\n",
       "      <td>0.323521</td>\n",
       "      <td>0.450706</td>\n",
       "      <td>1.000000</td>\n",
       "      <td>0.077871</td>\n",
       "      <td>0.544265</td>\n",
       "    </tr>\n",
       "    <tr>\n",
       "      <th>num_actor</th>\n",
       "      <td>0.114153</td>\n",
       "      <td>0.083818</td>\n",
       "      <td>0.014006</td>\n",
       "      <td>0.077871</td>\n",
       "      <td>1.000000</td>\n",
       "      <td>0.111179</td>\n",
       "    </tr>\n",
       "    <tr>\n",
       "      <th>box_off_num</th>\n",
       "      <td>0.441452</td>\n",
       "      <td>0.283184</td>\n",
       "      <td>0.259674</td>\n",
       "      <td>0.544265</td>\n",
       "      <td>0.111179</td>\n",
       "      <td>1.000000</td>\n",
       "    </tr>\n",
       "  </tbody>\n",
       "</table>\n",
       "</div>"
      ],
      "text/plain": [
       "                    time  dir_prev_bfnum  dir_prev_num  num_staff  num_actor  \\\n",
       "time            1.000000        0.264675      0.306727   0.623205   0.114153   \n",
       "dir_prev_bfnum  0.264675        1.000000      0.131822   0.323521   0.083818   \n",
       "dir_prev_num    0.306727        0.131822      1.000000   0.450706   0.014006   \n",
       "num_staff       0.623205        0.323521      0.450706   1.000000   0.077871   \n",
       "num_actor       0.114153        0.083818      0.014006   0.077871   1.000000   \n",
       "box_off_num     0.441452        0.283184      0.259674   0.544265   0.111179   \n",
       "\n",
       "                box_off_num  \n",
       "time               0.441452  \n",
       "dir_prev_bfnum     0.283184  \n",
       "dir_prev_num       0.259674  \n",
       "num_staff          0.544265  \n",
       "num_actor          0.111179  \n",
       "box_off_num        1.000000  "
      ]
     },
     "execution_count": 13,
     "metadata": {},
     "output_type": "execute_result"
    }
   ],
   "source": [
    "train.corr()"
   ]
  },
  {
   "cell_type": "markdown",
   "id": "c18fc459",
   "metadata": {},
   "source": [
    "## 위 상관계수를 보면 숫자형태로 보는것은 직관적이지 않기 때문에 시각적으로 보겠습니다."
   ]
  },
  {
   "cell_type": "code",
   "execution_count": 14,
   "id": "3d19b092",
   "metadata": {},
   "outputs": [
    {
     "name": "stderr",
     "output_type": "stream",
     "text": [
      "/home/ubuntu/anaconda3/lib/python3.8/site-packages/seaborn/distributions.py:2619: FutureWarning: `distplot` is a deprecated function and will be removed in a future version. Please adapt your code to use either `displot` (a figure-level function with similar flexibility) or `histplot` (an axes-level function for histograms).\n",
      "  warnings.warn(msg, FutureWarning)\n"
     ]
    },
    {
     "data": {
      "text/plain": [
       "<AxesSubplot:xlabel='num_staff', ylabel='Density'>"
      ]
     },
     "execution_count": 14,
     "metadata": {},
     "output_type": "execute_result"
    },
    {
     "data": {
      "image/png": "[encoded data removed]",
      "text/plain": [
       "<Figure size 576x432 with 1 Axes>"
      ]
     },
     "metadata": {
      "needs_background": "light"
     },
     "output_type": "display_data"
    }
   ],
   "source": [
    "f, ax = plt.subplots(figsize = (8,6))\n",
    "sns.distplot(train['num_staff'])"
   ]
  },
  {
   "cell_type": "code",
   "execution_count": 15,
   "id": "f731855b",
   "metadata": {},
   "outputs": [
    {
     "data": {
      "text/plain": [
       "<AxesSubplot:>"
      ]
     },
     "execution_count": 15,
     "metadata": {},
     "output_type": "execute_result"
    },
    {
     "data": {
      "image/png": "[encoded data removed]",
      "text/plain": [
       "<Figure size 432x288 with 2 Axes>"
      ]
     },
     "metadata": {
      "needs_background": "light"
     },
     "output_type": "display_data"
    }
   ],
   "source": [
    "sns.heatmap(train.corr(), annot = True)"
   ]
  },
  {
   "cell_type": "markdown",
   "id": "241eb49a",
   "metadata": {},
   "source": [
    "## 3. 데이터 전처리\n",
    "## Data Cleansing & Pre-Processing  "
   ]
  },
  {
   "cell_type": "markdown",
   "id": "3147944c",
   "metadata": {},
   "source": [
    "### isna함수는 결측치 여부를 확인해준다. 결측치면 True, 아니면 False로 확인된다."
   ]
  },
  {
   "cell_type": "code",
   "execution_count": 16,
   "id": "65499a68",
   "metadata": {},
   "outputs": [
    {
     "data": {
      "text/html": [
       "<div>\n",
       "<style scoped>\n",
       "    .dataframe tbody tr th:only-of-type {\n",
       "        vertical-align: middle;\n",
       "    }\n",
       "\n",
       "    .dataframe tbody tr th {\n",
       "        vertical-align: top;\n",
       "    }\n",
       "\n",
       "    .dataframe thead th {\n",
       "        text-align: right;\n",
       "    }\n",
       "</style>\n",
       "<table border=\"1\" class=\"dataframe\">\n",
       "  <thead>\n",
       "    <tr style=\"text-align: right;\">\n",
       "      <th></th>\n",
       "      <th>title</th>\n",
       "      <th>distributor</th>\n",
       "      <th>genre</th>\n",
       "      <th>release_time</th>\n",
       "      <th>time</th>\n",
       "      <th>screening_rat</th>\n",
       "      <th>director</th>\n",
       "      <th>dir_prev_bfnum</th>\n",
       "      <th>dir_prev_num</th>\n",
       "      <th>num_staff</th>\n",
       "      <th>num_actor</th>\n",
       "      <th>box_off_num</th>\n",
       "    </tr>\n",
       "  </thead>\n",
       "  <tbody>\n",
       "    <tr>\n",
       "      <th>0</th>\n",
       "      <td>False</td>\n",
       "      <td>False</td>\n",
       "      <td>False</td>\n",
       "      <td>False</td>\n",
       "      <td>False</td>\n",
       "      <td>False</td>\n",
       "      <td>False</td>\n",
       "      <td>True</td>\n",
       "      <td>False</td>\n",
       "      <td>False</td>\n",
       "      <td>False</td>\n",
       "      <td>False</td>\n",
       "    </tr>\n",
       "    <tr>\n",
       "      <th>1</th>\n",
       "      <td>False</td>\n",
       "      <td>False</td>\n",
       "      <td>False</td>\n",
       "      <td>False</td>\n",
       "      <td>False</td>\n",
       "      <td>False</td>\n",
       "      <td>False</td>\n",
       "      <td>False</td>\n",
       "      <td>False</td>\n",
       "      <td>False</td>\n",
       "      <td>False</td>\n",
       "      <td>False</td>\n",
       "    </tr>\n",
       "    <tr>\n",
       "      <th>2</th>\n",
       "      <td>False</td>\n",
       "      <td>False</td>\n",
       "      <td>False</td>\n",
       "      <td>False</td>\n",
       "      <td>False</td>\n",
       "      <td>False</td>\n",
       "      <td>False</td>\n",
       "      <td>False</td>\n",
       "      <td>False</td>\n",
       "      <td>False</td>\n",
       "      <td>False</td>\n",
       "      <td>False</td>\n",
       "    </tr>\n",
       "    <tr>\n",
       "      <th>3</th>\n",
       "      <td>False</td>\n",
       "      <td>False</td>\n",
       "      <td>False</td>\n",
       "      <td>False</td>\n",
       "      <td>False</td>\n",
       "      <td>False</td>\n",
       "      <td>False</td>\n",
       "      <td>False</td>\n",
       "      <td>False</td>\n",
       "      <td>False</td>\n",
       "      <td>False</td>\n",
       "      <td>False</td>\n",
       "    </tr>\n",
       "    <tr>\n",
       "      <th>4</th>\n",
       "      <td>False</td>\n",
       "      <td>False</td>\n",
       "      <td>False</td>\n",
       "      <td>False</td>\n",
       "      <td>False</td>\n",
       "      <td>False</td>\n",
       "      <td>False</td>\n",
       "      <td>False</td>\n",
       "      <td>False</td>\n",
       "      <td>False</td>\n",
       "      <td>False</td>\n",
       "      <td>False</td>\n",
       "    </tr>\n",
       "  </tbody>\n",
       "</table>\n",
       "</div>"
      ],
      "text/plain": [
       "   title  distributor  genre  release_time   time  screening_rat  director  \\\n",
       "0  False        False  False         False  False          False     False   \n",
       "1  False        False  False         False  False          False     False   \n",
       "2  False        False  False         False  False          False     False   \n",
       "3  False        False  False         False  False          False     False   \n",
       "4  False        False  False         False  False          False     False   \n",
       "\n",
       "   dir_prev_bfnum  dir_prev_num  num_staff  num_actor  box_off_num  \n",
       "0            True         False      False      False        False  \n",
       "1           False         False      False      False        False  \n",
       "2           False         False      False      False        False  \n",
       "3           False         False      False      False        False  \n",
       "4           False         False      False      False        False  "
      ]
     },
     "execution_count": 16,
     "metadata": {},
     "output_type": "execute_result"
    }
   ],
   "source": [
    "train.isna().head()"
   ]
  },
  {
   "cell_type": "markdown",
   "id": "8595f65a",
   "metadata": {},
   "source": [
    "이렇게 보면 결측치를 확인하기 어렵다. 여기서 sum함수를 이용해 확인해보자."
   ]
  },
  {
   "cell_type": "code",
   "execution_count": 17,
   "id": "326dc9a9",
   "metadata": {},
   "outputs": [
    {
     "data": {
      "text/plain": [
       "title               0\n",
       "distributor         0\n",
       "genre               0\n",
       "release_time        0\n",
       "time                0\n",
       "screening_rat       0\n",
       "director            0\n",
       "dir_prev_bfnum    330\n",
       "dir_prev_num        0\n",
       "num_staff           0\n",
       "num_actor           0\n",
       "box_off_num         0\n",
       "dtype: int64"
      ]
     },
     "execution_count": 17,
     "metadata": {},
     "output_type": "execute_result"
    }
   ],
   "source": [
    "train.isna().sum()"
   ]
  },
  {
   "cell_type": "markdown",
   "id": "0e5675ef",
   "metadata": {},
   "source": [
    "여기서 330개가 어떻게 나왔는지 알아보자. True는 1로 인식되고 False는 영어로 인식되기 때문에 위 결과가 나온것으로 알면된다."
   ]
  },
  {
   "cell_type": "code",
   "execution_count": 18,
   "id": "33cd7bb1",
   "metadata": {},
   "outputs": [
    {
     "data": {
      "text/html": [
       "<div>\n",
       "<style scoped>\n",
       "    .dataframe tbody tr th:only-of-type {\n",
       "        vertical-align: middle;\n",
       "    }\n",
       "\n",
       "    .dataframe tbody tr th {\n",
       "        vertical-align: top;\n",
       "    }\n",
       "\n",
       "    .dataframe thead th {\n",
       "        text-align: right;\n",
       "    }\n",
       "</style>\n",
       "<table border=\"1\" class=\"dataframe\">\n",
       "  <thead>\n",
       "    <tr style=\"text-align: right;\">\n",
       "      <th></th>\n",
       "      <th>title</th>\n",
       "      <th>distributor</th>\n",
       "      <th>genre</th>\n",
       "      <th>release_time</th>\n",
       "      <th>time</th>\n",
       "      <th>screening_rat</th>\n",
       "      <th>director</th>\n",
       "      <th>dir_prev_bfnum</th>\n",
       "      <th>dir_prev_num</th>\n",
       "      <th>num_staff</th>\n",
       "      <th>num_actor</th>\n",
       "    </tr>\n",
       "  </thead>\n",
       "  <tbody>\n",
       "    <tr>\n",
       "      <th>0</th>\n",
       "      <td>False</td>\n",
       "      <td>False</td>\n",
       "      <td>False</td>\n",
       "      <td>False</td>\n",
       "      <td>False</td>\n",
       "      <td>False</td>\n",
       "      <td>False</td>\n",
       "      <td>False</td>\n",
       "      <td>False</td>\n",
       "      <td>False</td>\n",
       "      <td>False</td>\n",
       "    </tr>\n",
       "    <tr>\n",
       "      <th>1</th>\n",
       "      <td>False</td>\n",
       "      <td>False</td>\n",
       "      <td>False</td>\n",
       "      <td>False</td>\n",
       "      <td>False</td>\n",
       "      <td>False</td>\n",
       "      <td>False</td>\n",
       "      <td>False</td>\n",
       "      <td>False</td>\n",
       "      <td>False</td>\n",
       "      <td>False</td>\n",
       "    </tr>\n",
       "    <tr>\n",
       "      <th>2</th>\n",
       "      <td>False</td>\n",
       "      <td>False</td>\n",
       "      <td>False</td>\n",
       "      <td>False</td>\n",
       "      <td>False</td>\n",
       "      <td>False</td>\n",
       "      <td>False</td>\n",
       "      <td>False</td>\n",
       "      <td>False</td>\n",
       "      <td>False</td>\n",
       "      <td>False</td>\n",
       "    </tr>\n",
       "    <tr>\n",
       "      <th>3</th>\n",
       "      <td>False</td>\n",
       "      <td>False</td>\n",
       "      <td>False</td>\n",
       "      <td>False</td>\n",
       "      <td>False</td>\n",
       "      <td>False</td>\n",
       "      <td>False</td>\n",
       "      <td>False</td>\n",
       "      <td>False</td>\n",
       "      <td>False</td>\n",
       "      <td>False</td>\n",
       "    </tr>\n",
       "    <tr>\n",
       "      <th>4</th>\n",
       "      <td>False</td>\n",
       "      <td>False</td>\n",
       "      <td>False</td>\n",
       "      <td>False</td>\n",
       "      <td>False</td>\n",
       "      <td>False</td>\n",
       "      <td>False</td>\n",
       "      <td>False</td>\n",
       "      <td>False</td>\n",
       "      <td>False</td>\n",
       "      <td>False</td>\n",
       "    </tr>\n",
       "  </tbody>\n",
       "</table>\n",
       "</div>"
      ],
      "text/plain": [
       "   title  distributor  genre  release_time   time  screening_rat  director  \\\n",
       "0  False        False  False         False  False          False     False   \n",
       "1  False        False  False         False  False          False     False   \n",
       "2  False        False  False         False  False          False     False   \n",
       "3  False        False  False         False  False          False     False   \n",
       "4  False        False  False         False  False          False     False   \n",
       "\n",
       "   dir_prev_bfnum  dir_prev_num  num_staff  num_actor  \n",
       "0           False         False      False      False  \n",
       "1           False         False      False      False  \n",
       "2           False         False      False      False  \n",
       "3           False         False      False      False  \n",
       "4           False         False      False      False  "
      ]
     },
     "execution_count": 18,
     "metadata": {},
     "output_type": "execute_result"
    }
   ],
   "source": [
    "test.isna().head()"
   ]
  },
  {
   "cell_type": "code",
   "execution_count": 19,
   "id": "3610b8bc",
   "metadata": {},
   "outputs": [
    {
     "data": {
      "text/plain": [
       "title               0\n",
       "distributor         0\n",
       "genre               0\n",
       "release_time        0\n",
       "time                0\n",
       "screening_rat       0\n",
       "director            0\n",
       "dir_prev_bfnum    136\n",
       "dir_prev_num        0\n",
       "num_staff           0\n",
       "num_actor           0\n",
       "dtype: int64"
      ]
     },
     "execution_count": 19,
     "metadata": {},
     "output_type": "execute_result"
    }
   ],
   "source": [
    "test.isna().sum()"
   ]
  },
  {
   "cell_type": "markdown",
   "id": "d19e1266",
   "metadata": {},
   "source": [
    "test데이터도 마찬가지로 확인해보면 136개의 결측값을 확인 할 수있다."
   ]
  },
  {
   "cell_type": "markdown",
   "id": "8b35092f",
   "metadata": {},
   "source": [
    "### fillna함수 결측치를 채울수 있는 함수."
   ]
  },
  {
   "cell_type": "code",
   "execution_count": 20,
   "id": "d8021225",
   "metadata": {},
   "outputs": [
    {
     "data": {
      "text/plain": [
       "0             NaN\n",
       "1      1161602.50\n",
       "2       220775.25\n",
       "3        23894.00\n",
       "4            1.00\n",
       "          ...    \n",
       "595       3833.00\n",
       "596     496061.00\n",
       "597           NaN\n",
       "598           NaN\n",
       "599           NaN\n",
       "Name: dir_prev_bfnum, Length: 600, dtype: float64"
      ]
     },
     "execution_count": 20,
     "metadata": {},
     "output_type": "execute_result"
    }
   ],
   "source": [
    "train['dir_prev_bfnum']"
   ]
  },
  {
   "cell_type": "code",
   "execution_count": 21,
   "id": "08a12325",
   "metadata": {},
   "outputs": [
    {
     "data": {
      "text/plain": [
       "0            0.00\n",
       "1      1161602.50\n",
       "2       220775.25\n",
       "3        23894.00\n",
       "4            1.00\n",
       "          ...    \n",
       "595       3833.00\n",
       "596     496061.00\n",
       "597          0.00\n",
       "598          0.00\n",
       "599          0.00\n",
       "Name: dir_prev_bfnum, Length: 600, dtype: float64"
      ]
     },
     "execution_count": 21,
     "metadata": {},
     "output_type": "execute_result"
    }
   ],
   "source": [
    "train['dir_prev_bfnum'].fillna(0)"
   ]
  },
  {
   "cell_type": "markdown",
   "id": "ddef4cc3",
   "metadata": {},
   "source": [
    "NaN이 0으로 바뀌는 것을 볼 수 있다. 다음 추가적으로 저장을 해주어야 하는 것이있다. inplace = True를 추가해줄것이다."
   ]
  },
  {
   "cell_type": "code",
   "execution_count": 22,
   "id": "1153a525",
   "metadata": {},
   "outputs": [
    {
     "data": {
      "text/plain": [
       "title               0\n",
       "distributor         0\n",
       "genre               0\n",
       "release_time        0\n",
       "time                0\n",
       "screening_rat       0\n",
       "director            0\n",
       "dir_prev_bfnum    330\n",
       "dir_prev_num        0\n",
       "num_staff           0\n",
       "num_actor           0\n",
       "box_off_num         0\n",
       "dtype: int64"
      ]
     },
     "execution_count": 22,
     "metadata": {},
     "output_type": "execute_result"
    }
   ],
   "source": [
    "train.isna().sum()"
   ]
  },
  {
   "cell_type": "markdown",
   "id": "b24ff78d",
   "metadata": {},
   "source": [
    "위 결측값 설정을 해주었지만 결측값이 계속 나온다. 이래서 저장을 해둔다 생각하고 inplace = True를 추가해서 보자."
   ]
  },
  {
   "cell_type": "code",
   "execution_count": 23,
   "id": "2c47ec23",
   "metadata": {},
   "outputs": [],
   "source": [
    "train['dir_prev_bfnum'].fillna(0, inplace = True)"
   ]
  },
  {
   "cell_type": "code",
   "execution_count": 24,
   "id": "46989403",
   "metadata": {},
   "outputs": [
    {
     "data": {
      "text/plain": [
       "title             0\n",
       "distributor       0\n",
       "genre             0\n",
       "release_time      0\n",
       "time              0\n",
       "screening_rat     0\n",
       "director          0\n",
       "dir_prev_bfnum    0\n",
       "dir_prev_num      0\n",
       "num_staff         0\n",
       "num_actor         0\n",
       "box_off_num       0\n",
       "dtype: int64"
      ]
     },
     "execution_count": 24,
     "metadata": {},
     "output_type": "execute_result"
    }
   ],
   "source": [
    "train.isna().sum()"
   ]
  },
  {
   "cell_type": "markdown",
   "id": "66013445",
   "metadata": {},
   "source": [
    "NaN 0으로 잘 설정이 되었다. 이것과 동일하게 test데이터도 같은 방법으로 설정해주자."
   ]
  },
  {
   "cell_type": "code",
   "execution_count": 25,
   "id": "f8d34888",
   "metadata": {},
   "outputs": [],
   "source": [
    "test['dir_prev_bfnum'].fillna(0, inplace = True)"
   ]
  },
  {
   "cell_type": "code",
   "execution_count": 26,
   "id": "cfa6c73d",
   "metadata": {},
   "outputs": [
    {
     "data": {
      "text/plain": [
       "title             0\n",
       "distributor       0\n",
       "genre             0\n",
       "release_time      0\n",
       "time              0\n",
       "screening_rat     0\n",
       "director          0\n",
       "dir_prev_bfnum    0\n",
       "dir_prev_num      0\n",
       "num_staff         0\n",
       "num_actor         0\n",
       "dtype: int64"
      ]
     },
     "execution_count": 26,
     "metadata": {},
     "output_type": "execute_result"
    }
   ],
   "source": [
    "test.isna().sum()"
   ]
  },
  {
   "cell_type": "markdown",
   "id": "72ee3e54",
   "metadata": {},
   "source": [
    "## 여기까지 전처리 작업을 해보았다."
   ]
  },
  {
   "cell_type": "markdown",
   "id": "dc70598e",
   "metadata": {},
   "source": [
    "## 4. 변수 선택 및 모델 구축\n",
    "## Feature Engineering & Initial Modeling  "
   ]
  },
  {
   "cell_type": "code",
   "execution_count": 27,
   "id": "4f3bf38c",
   "metadata": {},
   "outputs": [],
   "source": [
    "model = lgb.LGBMRegressor(random_state=777, n_estimators=1000)"
   ]
  },
  {
   "cell_type": "markdown",
   "id": "e100dc5e",
   "metadata": {},
   "source": [
    "random_state=777은 어느 pc에서도 결과값이 같게 나오게 고정시켜준다고 이해를 하자. n_estimators은 순차적으로 만드는 모델을 1000번 반복해서 만들겟다는 뜻이라 생각하자."
   ]
  },
  {
   "cell_type": "code",
   "execution_count": 28,
   "id": "33a6b949",
   "metadata": {},
   "outputs": [],
   "source": [
    "features = ['time', 'dir_prev_num', 'num_staff', 'num_actor']\n",
    "target = ['box_off_num']"
   ]
  },
  {
   "cell_type": "markdown",
   "id": "284ceefd",
   "metadata": {},
   "source": [
    "이제 독립변수(features)와 종속변수(target)를 만들어주자."
   ]
  },
  {
   "cell_type": "markdown",
   "id": "216367ac",
   "metadata": {},
   "source": [
    "독립변수,종속변수 설명 링크 : https://www.scienceall.com/%EB%8F%85%EB%A6%BD%EB%B3%80%EC%88%98independent-variable/"
   ]
  },
  {
   "cell_type": "code",
   "execution_count": 29,
   "id": "e209cee9",
   "metadata": {},
   "outputs": [],
   "source": [
    "X_train, X_test, y_train = train[features], test[features], train[target]"
   ]
  },
  {
   "cell_type": "markdown",
   "id": "e3376aed",
   "metadata": {},
   "source": [
    "X,y를 이제 tarin,test에 변수들을 저장해주도록 하자. "
   ]
  },
  {
   "cell_type": "code",
   "execution_count": 30,
   "id": "c4966b47",
   "metadata": {},
   "outputs": [
    {
     "data": {
      "text/plain": [
       "LGBMRegressor(n_estimators=1000, random_state=777)"
      ]
     },
     "execution_count": 30,
     "metadata": {},
     "output_type": "execute_result"
    }
   ],
   "source": [
    "model.fit(X_train, y_train)"
   ]
  },
  {
   "cell_type": "markdown",
   "id": "8a960284",
   "metadata": {},
   "source": [
    "모델을 학습시켜주자."
   ]
  },
  {
   "cell_type": "code",
   "execution_count": 31,
   "id": "68660989",
   "metadata": {},
   "outputs": [],
   "source": [
    "singleLGBM = submission.copy()"
   ]
  },
  {
   "cell_type": "code",
   "execution_count": 32,
   "id": "20e8fc7a",
   "metadata": {},
   "outputs": [
    {
     "data": {
      "text/html": [
       "<div>\n",
       "<style scoped>\n",
       "    .dataframe tbody tr th:only-of-type {\n",
       "        vertical-align: middle;\n",
       "    }\n",
       "\n",
       "    .dataframe tbody tr th {\n",
       "        vertical-align: top;\n",
       "    }\n",
       "\n",
       "    .dataframe thead th {\n",
       "        text-align: right;\n",
       "    }\n",
       "</style>\n",
       "<table border=\"1\" class=\"dataframe\">\n",
       "  <thead>\n",
       "    <tr style=\"text-align: right;\">\n",
       "      <th></th>\n",
       "      <th>title</th>\n",
       "      <th>box_off_num</th>\n",
       "    </tr>\n",
       "  </thead>\n",
       "  <tbody>\n",
       "    <tr>\n",
       "      <th>0</th>\n",
       "      <td>용서는 없다</td>\n",
       "      <td>0</td>\n",
       "    </tr>\n",
       "    <tr>\n",
       "      <th>1</th>\n",
       "      <td>아빠가 여자를 좋아해</td>\n",
       "      <td>0</td>\n",
       "    </tr>\n",
       "    <tr>\n",
       "      <th>2</th>\n",
       "      <td>하모니</td>\n",
       "      <td>0</td>\n",
       "    </tr>\n",
       "    <tr>\n",
       "      <th>3</th>\n",
       "      <td>의형제</td>\n",
       "      <td>0</td>\n",
       "    </tr>\n",
       "    <tr>\n",
       "      <th>4</th>\n",
       "      <td>평행 이론</td>\n",
       "      <td>0</td>\n",
       "    </tr>\n",
       "  </tbody>\n",
       "</table>\n",
       "</div>"
      ],
      "text/plain": [
       "         title  box_off_num\n",
       "0       용서는 없다            0\n",
       "1  아빠가 여자를 좋아해            0\n",
       "2          하모니            0\n",
       "3          의형제            0\n",
       "4        평행 이론            0"
      ]
     },
     "execution_count": 32,
     "metadata": {},
     "output_type": "execute_result"
    }
   ],
   "source": [
    "singleLGBM.head()"
   ]
  },
  {
   "cell_type": "code",
   "execution_count": 33,
   "id": "b98972c2",
   "metadata": {},
   "outputs": [],
   "source": [
    "singleLGBM['box_off_num'] = model.predict(X_test)"
   ]
  },
  {
   "cell_type": "code",
   "execution_count": 34,
   "id": "57981559",
   "metadata": {},
   "outputs": [
    {
     "data": {
      "text/html": [
       "<div>\n",
       "<style scoped>\n",
       "    .dataframe tbody tr th:only-of-type {\n",
       "        vertical-align: middle;\n",
       "    }\n",
       "\n",
       "    .dataframe tbody tr th {\n",
       "        vertical-align: top;\n",
       "    }\n",
       "\n",
       "    .dataframe thead th {\n",
       "        text-align: right;\n",
       "    }\n",
       "</style>\n",
       "<table border=\"1\" class=\"dataframe\">\n",
       "  <thead>\n",
       "    <tr style=\"text-align: right;\">\n",
       "      <th></th>\n",
       "      <th>title</th>\n",
       "      <th>box_off_num</th>\n",
       "    </tr>\n",
       "  </thead>\n",
       "  <tbody>\n",
       "    <tr>\n",
       "      <th>0</th>\n",
       "      <td>용서는 없다</td>\n",
       "      <td>2.817995e+06</td>\n",
       "    </tr>\n",
       "    <tr>\n",
       "      <th>1</th>\n",
       "      <td>아빠가 여자를 좋아해</td>\n",
       "      <td>3.753772e+05</td>\n",
       "    </tr>\n",
       "    <tr>\n",
       "      <th>2</th>\n",
       "      <td>하모니</td>\n",
       "      <td>-5.693243e+05</td>\n",
       "    </tr>\n",
       "    <tr>\n",
       "      <th>3</th>\n",
       "      <td>의형제</td>\n",
       "      <td>1.581189e+06</td>\n",
       "    </tr>\n",
       "    <tr>\n",
       "      <th>4</th>\n",
       "      <td>평행 이론</td>\n",
       "      <td>-5.277806e+05</td>\n",
       "    </tr>\n",
       "  </tbody>\n",
       "</table>\n",
       "</div>"
      ],
      "text/plain": [
       "         title   box_off_num\n",
       "0       용서는 없다  2.817995e+06\n",
       "1  아빠가 여자를 좋아해  3.753772e+05\n",
       "2          하모니 -5.693243e+05\n",
       "3          의형제  1.581189e+06\n",
       "4        평행 이론 -5.277806e+05"
      ]
     },
     "execution_count": 34,
     "metadata": {},
     "output_type": "execute_result"
    }
   ],
   "source": [
    "singleLGBM.head()"
   ]
  },
  {
   "cell_type": "markdown",
   "id": "bd171c41",
   "metadata": {},
   "source": [
    "많이 잘못 됬다는것을 볼 수 있다. 관객수가 음수값이 나올수가 없는데 음수가 나오는것을 확인할수있다. 이 모델은 성능이 별로 안좋은거 같다. 다른 모델로 넘어가보도록 하자."
   ]
  },
  {
   "cell_type": "markdown",
   "id": "0e7a3416",
   "metadata": {},
   "source": [
    "## k-fold 교차검증 (k-fold cross validation)\n",
    "이해하기 쉬운 링크 : https://huidea.tistory.com/30"
   ]
  },
  {
   "cell_type": "code",
   "execution_count": 35,
   "id": "e766a471",
   "metadata": {},
   "outputs": [],
   "source": [
    "from sklearn.model_selection import KFold"
   ]
  },
  {
   "cell_type": "code",
   "execution_count": 36,
   "id": "fc9340ec",
   "metadata": {},
   "outputs": [],
   "source": [
    "k_fold = KFold(n_splits=5, shuffle=True, random_state=777)"
   ]
  },
  {
   "cell_type": "markdown",
   "id": "4d2fd318",
   "metadata": {},
   "source": [
    "n_splits = 5은 몇 등분 할지 설정후 shuffle = True는 섞어서 5등분을 시킨다는 의미이다. 섞는 이유는 순서에 대한 영향력이 있을수 있기에 섞어준다고 생각하자."
   ]
  },
  {
   "cell_type": "code",
   "execution_count": 37,
   "id": "5fcdd70d",
   "metadata": {},
   "outputs": [
    {
     "name": "stdout",
     "output_type": "stream",
     "text": [
      "480 120\n"
     ]
    }
   ],
   "source": [
    "for train_idx, val_idx in k_fold.split(X_train):\n",
    "    print(len(train_idx), len(val_idx))\n",
    "    break"
   ]
  },
  {
   "cell_type": "markdown",
   "id": "c0dc974e",
   "metadata": {},
   "source": [
    "위 결과를 보면 5등분이 되었다는 것을 알수있다. train_idx은 600개중 4등분인 480개 val_idx는 120개로 나눠져있다.  "
   ]
  },
  {
   "cell_type": "code",
   "execution_count": 38,
   "id": "0f93544a",
   "metadata": {},
   "outputs": [
    {
     "name": "stdout",
     "output_type": "stream",
     "text": [
      "Training until validation scores don't improve for 100 rounds\n",
      "[100]\tvalid_0's l2: 2.70572e+12\n",
      "Early stopping, best iteration is:\n",
      "[6]\tvalid_0's l2: 2.45438e+12\n",
      "Training until validation scores don't improve for 100 rounds\n",
      "[100]\tvalid_0's l2: 3.90847e+12\n",
      "Early stopping, best iteration is:\n",
      "[33]\tvalid_0's l2: 3.72825e+12\n",
      "Training until validation scores don't improve for 100 rounds\n",
      "[100]\tvalid_0's l2: 3.50344e+12\n",
      "Early stopping, best iteration is:\n",
      "[8]\tvalid_0's l2: 2.58737e+12\n",
      "Training until validation scores don't improve for 100 rounds\n",
      "[100]\tvalid_0's l2: 1.45977e+12\n",
      "Early stopping, best iteration is:\n",
      "[11]\tvalid_0's l2: 1.26226e+12\n",
      "Training until validation scores don't improve for 100 rounds\n",
      "[100]\tvalid_0's l2: 1.77214e+12\n",
      "Early stopping, best iteration is:\n",
      "[22]\tvalid_0's l2: 1.57631e+12\n"
     ]
    }
   ],
   "source": [
    "model = lgb.LGBMRegressor(random_state=777, n_estimators=1000)\n",
    "\n",
    "models = [] # 모델을 담을 바구니라 생각하자.\n",
    "\n",
    "for train_idx, val_idx in k_fold.split(X_train):\n",
    "    x_t = X_train.iloc[train_idx]\n",
    "    y_t = y_train.iloc[train_idx]\n",
    "    x_val = X_train.iloc[val_idx]\n",
    "    y_val = y_train.iloc[val_idx]\n",
    "    \n",
    "    models.append(model.fit(x_t, y_t, eval_set=(x_val, y_val), early_stopping_rounds=100, verbose = 100))"
   ]
  },
  {
   "cell_type": "markdown",
   "id": "4efd1933",
   "metadata": {},
   "source": [
    "early_stopping_rounds=100은 100번의 과정동안 오차율이 감소되지 않으면 멈춰라라는 명령어이다. 그이상하면 과적합이 발생하기 때문에 설정해 준다고 생각하자.위 결과를 보면 [100],[6],[33]...등등 보인다. [100]은 100번과정을 다하였다는 뜻이고. [6]은 6번이상 해도 오차율이 감소하지 않아 멈춘것을 볼 수 있다.<br>\n",
    "verbose = 100 은 우리가 1000번 학습을 하는데 100번째 모델마다 출력값을 산출해 달라라는 뜻이라 이해하자."
   ]
  },
  {
   "cell_type": "code",
   "execution_count": 39,
   "id": "1b1dbbf7",
   "metadata": {},
   "outputs": [
    {
     "data": {
      "text/plain": [
       "[LGBMRegressor(n_estimators=1000, random_state=777),\n",
       " LGBMRegressor(n_estimators=1000, random_state=777),\n",
       " LGBMRegressor(n_estimators=1000, random_state=777),\n",
       " LGBMRegressor(n_estimators=1000, random_state=777),\n",
       " LGBMRegressor(n_estimators=1000, random_state=777)]"
      ]
     },
     "execution_count": 39,
     "metadata": {},
     "output_type": "execute_result"
    }
   ],
   "source": [
    "models"
   ]
  },
  {
   "cell_type": "code",
   "execution_count": 40,
   "id": "962327a0",
   "metadata": {},
   "outputs": [
    {
     "data": {
      "text/plain": [
       "5"
      ]
     },
     "execution_count": 40,
     "metadata": {},
     "output_type": "execute_result"
    }
   ],
   "source": [
    "preds = []\n",
    "for model in models:\n",
    "    preds.append(model.predict(X_test))\n",
    "len(preds)"
   ]
  },
  {
   "cell_type": "markdown",
   "id": "cb53dec6",
   "metadata": {},
   "source": [
    "preds 배열을 만들어서 만들어두었던 모델들의 예측값을 저장해준다"
   ]
  },
  {
   "cell_type": "code",
   "execution_count": 41,
   "id": "121cfdc2",
   "metadata": {},
   "outputs": [
    {
     "data": {
      "text/plain": [
       "[array([3367422.08211024,  961138.88337016, 1097929.67851313,\n",
       "        2097270.81999921,  781476.31131047,  123133.23396977,\n",
       "          84085.01896248,  199222.92670303,  124854.97973097,\n",
       "        1072684.78820647,  657040.55769984, 1644701.47160779,\n",
       "         924735.72080619,  191699.58415836,  723218.39948755,\n",
       "        2395613.42888462,  113180.54906592, 1882765.92812296,\n",
       "          97286.47282983,  417270.42113431,  161482.3367577 ,\n",
       "          63495.73363115,  598057.42337284,  249411.25868881,\n",
       "         308424.71884273, 1319518.60852241,  202273.52740684,\n",
       "        1076683.13768137,  491636.41945325,  183406.6380314 ,\n",
       "        1740233.45816734,   86696.17528125,  440430.29773088,\n",
       "        2040944.13061099,  113375.45695331,  531746.29484356,\n",
       "         106207.35971699,  169560.79581187,  158101.0895316 ,\n",
       "          95037.29701059,  466355.50624629,  197548.63265325,\n",
       "         198810.0901353 ,  682743.4340129 ,  679265.22397749,\n",
       "         617812.91125278,  219182.85833837,   83712.10602149,\n",
       "        1206257.86593038,  213886.45118276,  225829.13565632,\n",
       "         573638.25784044,  213008.72404464, 1256363.95636108,\n",
       "        1114803.4971861 ,  743531.85320002,  491360.56067236,\n",
       "         844903.11979141, 1294842.58551457, 3224861.58056056,\n",
       "         620636.85839868, 1997931.01104478,  425408.70724227,\n",
       "         187911.96484382,  146932.14876274,   60290.34778046,\n",
       "        1553051.98103674,   61273.32234969,  434403.58150991,\n",
       "         295641.77082639, 3270724.75199692,  956695.86295249,\n",
       "          52421.39380137, 1193829.08957371,  109115.94774032,\n",
       "         114532.36574566, 1889840.31759081,  263117.7221664 ,\n",
       "         110722.44800397,  129405.69463079,  295288.27657346,\n",
       "        2208289.14524844,  127156.40131508, 2356552.01519359,\n",
       "          52421.39380137, 1582094.56763018,  450263.02347743,\n",
       "         180314.7209139 ,  207866.80825891,  237980.96274482,\n",
       "          92809.10191796,  217726.13148671,  588167.04361702,\n",
       "        2269569.15414991,  413549.08320869,  504238.61127942,\n",
       "         121235.38111888,  294348.6064813 ,  365600.03475309,\n",
       "        1021310.81474734, 1255348.78654001, 1121695.37239584,\n",
       "         236858.1355381 ,  180837.57476421,  390892.54870688,\n",
       "         112045.06953824, 3091294.61560971,   71489.84756224,\n",
       "        3949551.73068699,  117269.53815136,   76582.3994148 ,\n",
       "        1933601.27793109, 1675206.65522009,  294348.6064813 ,\n",
       "          97940.27258456,  945839.01956416,  610770.20862757,\n",
       "        1804885.34137216,  199766.90646407,   70766.27122776,\n",
       "          81754.00329429, 1021310.81474734,  846364.16218315,\n",
       "          77206.4852859 ,  598474.09814662,  169200.18001164,\n",
       "          73757.25966134,   68560.19329018,  363573.18970532,\n",
       "         439100.02360785,   53273.19743239,  883179.93430519,\n",
       "          96841.00528099,   69705.57216142,  720189.94864194,\n",
       "        4682200.86959811,  157547.86592702,  598577.33917498,\n",
       "         103530.67260964,  219913.31885361,   69705.57216142,\n",
       "        3393838.48355355, 3747750.51209052,  137237.96352743,\n",
       "         205694.9146793 , 1343063.74316061,  105778.55398733,\n",
       "         113406.67661411, 2090467.44678197,  676486.18009377,\n",
       "        1653182.84275506,  151567.24115244,   82132.69602781,\n",
       "         450200.37816199,  123824.9061514 ,  841869.56483077,\n",
       "          95800.41312684,  118291.73959934, 2085585.62459758,\n",
       "        2372839.45720666,  247688.59858277, 1334681.62533764,\n",
       "         101692.7552419 ,  503472.70498147,   64636.19839218,\n",
       "         320805.50593895, 2623266.33617439,  174088.14927962,\n",
       "          72116.10600518,   80293.56098003,   89828.86338213,\n",
       "         219193.02374581,  328023.58124177,   60290.34778046,\n",
       "         516294.37658866,  236774.09865655,  163101.99672652,\n",
       "          95037.29701059, 4401076.73195112, 3540272.0939466 ,\n",
       "          80652.10214941,   64007.05829165,   91088.74649744,\n",
       "         451288.50611234, 2108891.7577948 ,  222324.39435632,\n",
       "         230969.76551419,  119869.73646973,  202629.14049356,\n",
       "        3372525.98485469,  194055.24146137,   82570.78055486,\n",
       "         107755.73232124,   98100.67856341,   64007.05829165,\n",
       "        1960017.88124655,  439387.54981251, 1311678.25959343,\n",
       "          52266.56751161,  612357.4359533 ,  277611.14005727,\n",
       "         100834.87848026,   52421.39380137,  320518.12600116,\n",
       "         622991.23928914,  905631.603816  , 2927834.24849227,\n",
       "         562358.56357488,  111381.83047422,  781476.31131047,\n",
       "         798596.64645281, 2310966.59797285, 5133725.87086224,\n",
       "        1281440.30372974,  171353.72979582,   89630.73883889,\n",
       "        1555941.58912764,  124073.12498191,   66108.35792552,\n",
       "         201459.85880026,  108993.88378627, 3134539.90969621,\n",
       "         148239.45542642,   53451.2389687 , 1307718.56304709,\n",
       "         214406.20173983,  194835.86837801, 3367422.08211024,\n",
       "         199766.90646407, 3823577.41600747,   68447.35094925,\n",
       "         739960.30606392,  506712.38290343,  150255.49362263,\n",
       "          62093.65018694,   64707.81660264,  151784.52074685,\n",
       "          80757.16568265,  177095.84545845,  210255.47503947,\n",
       "         360547.62990175,  181508.22558258,   55171.21699634]),\n",
       " array([3367422.08211024,  961138.88337016, 1097929.67851313,\n",
       "        2097270.81999921,  781476.31131047,  123133.23396977,\n",
       "          84085.01896248,  199222.92670303,  124854.97973097,\n",
       "        1072684.78820647,  657040.55769984, 1644701.47160779,\n",
       "         924735.72080619,  191699.58415836,  723218.39948755,\n",
       "        2395613.42888462,  113180.54906592, 1882765.92812296,\n",
       "          97286.47282983,  417270.42113431,  161482.3367577 ,\n",
       "          63495.73363115,  598057.42337284,  249411.25868881,\n",
       "         308424.71884273, 1319518.60852241,  202273.52740684,\n",
       "        1076683.13768137,  491636.41945325,  183406.6380314 ,\n",
       "        1740233.45816734,   86696.17528125,  440430.29773088,\n",
       "        2040944.13061099,  113375.45695331,  531746.29484356,\n",
       "         106207.35971699,  169560.79581187,  158101.0895316 ,\n",
       "          95037.29701059,  466355.50624629,  197548.63265325,\n",
       "         198810.0901353 ,  682743.4340129 ,  679265.22397749,\n",
       "         617812.91125278,  219182.85833837,   83712.10602149,\n",
       "        1206257.86593038,  213886.45118276,  225829.13565632,\n",
       "         573638.25784044,  213008.72404464, 1256363.95636108,\n",
       "        1114803.4971861 ,  743531.85320002,  491360.56067236,\n",
       "         844903.11979141, 1294842.58551457, 3224861.58056056,\n",
       "         620636.85839868, 1997931.01104478,  425408.70724227,\n",
       "         187911.96484382,  146932.14876274,   60290.34778046,\n",
       "        1553051.98103674,   61273.32234969,  434403.58150991,\n",
       "         295641.77082639, 3270724.75199692,  956695.86295249,\n",
       "          52421.39380137, 1193829.08957371,  109115.94774032,\n",
       "         114532.36574566, 1889840.31759081,  263117.7221664 ,\n",
       "         110722.44800397,  129405.69463079,  295288.27657346,\n",
       "        2208289.14524844,  127156.40131508, 2356552.01519359,\n",
       "          52421.39380137, 1582094.56763018,  450263.02347743,\n",
       "         180314.7209139 ,  207866.80825891,  237980.96274482,\n",
       "          92809.10191796,  217726.13148671,  588167.04361702,\n",
       "        2269569.15414991,  413549.08320869,  504238.61127942,\n",
       "         121235.38111888,  294348.6064813 ,  365600.03475309,\n",
       "        1021310.81474734, 1255348.78654001, 1121695.37239584,\n",
       "         236858.1355381 ,  180837.57476421,  390892.54870688,\n",
       "         112045.06953824, 3091294.61560971,   71489.84756224,\n",
       "        3949551.73068699,  117269.53815136,   76582.3994148 ,\n",
       "        1933601.27793109, 1675206.65522009,  294348.6064813 ,\n",
       "          97940.27258456,  945839.01956416,  610770.20862757,\n",
       "        1804885.34137216,  199766.90646407,   70766.27122776,\n",
       "          81754.00329429, 1021310.81474734,  846364.16218315,\n",
       "          77206.4852859 ,  598474.09814662,  169200.18001164,\n",
       "          73757.25966134,   68560.19329018,  363573.18970532,\n",
       "         439100.02360785,   53273.19743239,  883179.93430519,\n",
       "          96841.00528099,   69705.57216142,  720189.94864194,\n",
       "        4682200.86959811,  157547.86592702,  598577.33917498,\n",
       "         103530.67260964,  219913.31885361,   69705.57216142,\n",
       "        3393838.48355355, 3747750.51209052,  137237.96352743,\n",
       "         205694.9146793 , 1343063.74316061,  105778.55398733,\n",
       "         113406.67661411, 2090467.44678197,  676486.18009377,\n",
       "        1653182.84275506,  151567.24115244,   82132.69602781,\n",
       "         450200.37816199,  123824.9061514 ,  841869.56483077,\n",
       "          95800.41312684,  118291.73959934, 2085585.62459758,\n",
       "        2372839.45720666,  247688.59858277, 1334681.62533764,\n",
       "         101692.7552419 ,  503472.70498147,   64636.19839218,\n",
       "         320805.50593895, 2623266.33617439,  174088.14927962,\n",
       "          72116.10600518,   80293.56098003,   89828.86338213,\n",
       "         219193.02374581,  328023.58124177,   60290.34778046,\n",
       "         516294.37658866,  236774.09865655,  163101.99672652,\n",
       "          95037.29701059, 4401076.73195112, 3540272.0939466 ,\n",
       "          80652.10214941,   64007.05829165,   91088.74649744,\n",
       "         451288.50611234, 2108891.7577948 ,  222324.39435632,\n",
       "         230969.76551419,  119869.73646973,  202629.14049356,\n",
       "        3372525.98485469,  194055.24146137,   82570.78055486,\n",
       "         107755.73232124,   98100.67856341,   64007.05829165,\n",
       "        1960017.88124655,  439387.54981251, 1311678.25959343,\n",
       "          52266.56751161,  612357.4359533 ,  277611.14005727,\n",
       "         100834.87848026,   52421.39380137,  320518.12600116,\n",
       "         622991.23928914,  905631.603816  , 2927834.24849227,\n",
       "         562358.56357488,  111381.83047422,  781476.31131047,\n",
       "         798596.64645281, 2310966.59797285, 5133725.87086224,\n",
       "        1281440.30372974,  171353.72979582,   89630.73883889,\n",
       "        1555941.58912764,  124073.12498191,   66108.35792552,\n",
       "         201459.85880026,  108993.88378627, 3134539.90969621,\n",
       "         148239.45542642,   53451.2389687 , 1307718.56304709,\n",
       "         214406.20173983,  194835.86837801, 3367422.08211024,\n",
       "         199766.90646407, 3823577.41600747,   68447.35094925,\n",
       "         739960.30606392,  506712.38290343,  150255.49362263,\n",
       "          62093.65018694,   64707.81660264,  151784.52074685,\n",
       "          80757.16568265,  177095.84545845,  210255.47503947,\n",
       "         360547.62990175,  181508.22558258,   55171.21699634]),\n",
       " array([3367422.08211024,  961138.88337016, 1097929.67851313,\n",
       "        2097270.81999921,  781476.31131047,  123133.23396977,\n",
       "          84085.01896248,  199222.92670303,  124854.97973097,\n",
       "        1072684.78820647,  657040.55769984, 1644701.47160779,\n",
       "         924735.72080619,  191699.58415836,  723218.39948755,\n",
       "        2395613.42888462,  113180.54906592, 1882765.92812296,\n",
       "          97286.47282983,  417270.42113431,  161482.3367577 ,\n",
       "          63495.73363115,  598057.42337284,  249411.25868881,\n",
       "         308424.71884273, 1319518.60852241,  202273.52740684,\n",
       "        1076683.13768137,  491636.41945325,  183406.6380314 ,\n",
       "        1740233.45816734,   86696.17528125,  440430.29773088,\n",
       "        2040944.13061099,  113375.45695331,  531746.29484356,\n",
       "         106207.35971699,  169560.79581187,  158101.0895316 ,\n",
       "          95037.29701059,  466355.50624629,  197548.63265325,\n",
       "         198810.0901353 ,  682743.4340129 ,  679265.22397749,\n",
       "         617812.91125278,  219182.85833837,   83712.10602149,\n",
       "        1206257.86593038,  213886.45118276,  225829.13565632,\n",
       "         573638.25784044,  213008.72404464, 1256363.95636108,\n",
       "        1114803.4971861 ,  743531.85320002,  491360.56067236,\n",
       "         844903.11979141, 1294842.58551457, 3224861.58056056,\n",
       "         620636.85839868, 1997931.01104478,  425408.70724227,\n",
       "         187911.96484382,  146932.14876274,   60290.34778046,\n",
       "        1553051.98103674,   61273.32234969,  434403.58150991,\n",
       "         295641.77082639, 3270724.75199692,  956695.86295249,\n",
       "          52421.39380137, 1193829.08957371,  109115.94774032,\n",
       "         114532.36574566, 1889840.31759081,  263117.7221664 ,\n",
       "         110722.44800397,  129405.69463079,  295288.27657346,\n",
       "        2208289.14524844,  127156.40131508, 2356552.01519359,\n",
       "          52421.39380137, 1582094.56763018,  450263.02347743,\n",
       "         180314.7209139 ,  207866.80825891,  237980.96274482,\n",
       "          92809.10191796,  217726.13148671,  588167.04361702,\n",
       "        2269569.15414991,  413549.08320869,  504238.61127942,\n",
       "         121235.38111888,  294348.6064813 ,  365600.03475309,\n",
       "        1021310.81474734, 1255348.78654001, 1121695.37239584,\n",
       "         236858.1355381 ,  180837.57476421,  390892.54870688,\n",
       "         112045.06953824, 3091294.61560971,   71489.84756224,\n",
       "        3949551.73068699,  117269.53815136,   76582.3994148 ,\n",
       "        1933601.27793109, 1675206.65522009,  294348.6064813 ,\n",
       "          97940.27258456,  945839.01956416,  610770.20862757,\n",
       "        1804885.34137216,  199766.90646407,   70766.27122776,\n",
       "          81754.00329429, 1021310.81474734,  846364.16218315,\n",
       "          77206.4852859 ,  598474.09814662,  169200.18001164,\n",
       "          73757.25966134,   68560.19329018,  363573.18970532,\n",
       "         439100.02360785,   53273.19743239,  883179.93430519,\n",
       "          96841.00528099,   69705.57216142,  720189.94864194,\n",
       "        4682200.86959811,  157547.86592702,  598577.33917498,\n",
       "         103530.67260964,  219913.31885361,   69705.57216142,\n",
       "        3393838.48355355, 3747750.51209052,  137237.96352743,\n",
       "         205694.9146793 , 1343063.74316061,  105778.55398733,\n",
       "         113406.67661411, 2090467.44678197,  676486.18009377,\n",
       "        1653182.84275506,  151567.24115244,   82132.69602781,\n",
       "         450200.37816199,  123824.9061514 ,  841869.56483077,\n",
       "          95800.41312684,  118291.73959934, 2085585.62459758,\n",
       "        2372839.45720666,  247688.59858277, 1334681.62533764,\n",
       "         101692.7552419 ,  503472.70498147,   64636.19839218,\n",
       "         320805.50593895, 2623266.33617439,  174088.14927962,\n",
       "          72116.10600518,   80293.56098003,   89828.86338213,\n",
       "         219193.02374581,  328023.58124177,   60290.34778046,\n",
       "         516294.37658866,  236774.09865655,  163101.99672652,\n",
       "          95037.29701059, 4401076.73195112, 3540272.0939466 ,\n",
       "          80652.10214941,   64007.05829165,   91088.74649744,\n",
       "         451288.50611234, 2108891.7577948 ,  222324.39435632,\n",
       "         230969.76551419,  119869.73646973,  202629.14049356,\n",
       "        3372525.98485469,  194055.24146137,   82570.78055486,\n",
       "         107755.73232124,   98100.67856341,   64007.05829165,\n",
       "        1960017.88124655,  439387.54981251, 1311678.25959343,\n",
       "          52266.56751161,  612357.4359533 ,  277611.14005727,\n",
       "         100834.87848026,   52421.39380137,  320518.12600116,\n",
       "         622991.23928914,  905631.603816  , 2927834.24849227,\n",
       "         562358.56357488,  111381.83047422,  781476.31131047,\n",
       "         798596.64645281, 2310966.59797285, 5133725.87086224,\n",
       "        1281440.30372974,  171353.72979582,   89630.73883889,\n",
       "        1555941.58912764,  124073.12498191,   66108.35792552,\n",
       "         201459.85880026,  108993.88378627, 3134539.90969621,\n",
       "         148239.45542642,   53451.2389687 , 1307718.56304709,\n",
       "         214406.20173983,  194835.86837801, 3367422.08211024,\n",
       "         199766.90646407, 3823577.41600747,   68447.35094925,\n",
       "         739960.30606392,  506712.38290343,  150255.49362263,\n",
       "          62093.65018694,   64707.81660264,  151784.52074685,\n",
       "          80757.16568265,  177095.84545845,  210255.47503947,\n",
       "         360547.62990175,  181508.22558258,   55171.21699634]),\n",
       " array([3367422.08211024,  961138.88337016, 1097929.67851313,\n",
       "        2097270.81999921,  781476.31131047,  123133.23396977,\n",
       "          84085.01896248,  199222.92670303,  124854.97973097,\n",
       "        1072684.78820647,  657040.55769984, 1644701.47160779,\n",
       "         924735.72080619,  191699.58415836,  723218.39948755,\n",
       "        2395613.42888462,  113180.54906592, 1882765.92812296,\n",
       "          97286.47282983,  417270.42113431,  161482.3367577 ,\n",
       "          63495.73363115,  598057.42337284,  249411.25868881,\n",
       "         308424.71884273, 1319518.60852241,  202273.52740684,\n",
       "        1076683.13768137,  491636.41945325,  183406.6380314 ,\n",
       "        1740233.45816734,   86696.17528125,  440430.29773088,\n",
       "        2040944.13061099,  113375.45695331,  531746.29484356,\n",
       "         106207.35971699,  169560.79581187,  158101.0895316 ,\n",
       "          95037.29701059,  466355.50624629,  197548.63265325,\n",
       "         198810.0901353 ,  682743.4340129 ,  679265.22397749,\n",
       "         617812.91125278,  219182.85833837,   83712.10602149,\n",
       "        1206257.86593038,  213886.45118276,  225829.13565632,\n",
       "         573638.25784044,  213008.72404464, 1256363.95636108,\n",
       "        1114803.4971861 ,  743531.85320002,  491360.56067236,\n",
       "         844903.11979141, 1294842.58551457, 3224861.58056056,\n",
       "         620636.85839868, 1997931.01104478,  425408.70724227,\n",
       "         187911.96484382,  146932.14876274,   60290.34778046,\n",
       "        1553051.98103674,   61273.32234969,  434403.58150991,\n",
       "         295641.77082639, 3270724.75199692,  956695.86295249,\n",
       "          52421.39380137, 1193829.08957371,  109115.94774032,\n",
       "         114532.36574566, 1889840.31759081,  263117.7221664 ,\n",
       "         110722.44800397,  129405.69463079,  295288.27657346,\n",
       "        2208289.14524844,  127156.40131508, 2356552.01519359,\n",
       "          52421.39380137, 1582094.56763018,  450263.02347743,\n",
       "         180314.7209139 ,  207866.80825891,  237980.96274482,\n",
       "          92809.10191796,  217726.13148671,  588167.04361702,\n",
       "        2269569.15414991,  413549.08320869,  504238.61127942,\n",
       "         121235.38111888,  294348.6064813 ,  365600.03475309,\n",
       "        1021310.81474734, 1255348.78654001, 1121695.37239584,\n",
       "         236858.1355381 ,  180837.57476421,  390892.54870688,\n",
       "         112045.06953824, 3091294.61560971,   71489.84756224,\n",
       "        3949551.73068699,  117269.53815136,   76582.3994148 ,\n",
       "        1933601.27793109, 1675206.65522009,  294348.6064813 ,\n",
       "          97940.27258456,  945839.01956416,  610770.20862757,\n",
       "        1804885.34137216,  199766.90646407,   70766.27122776,\n",
       "          81754.00329429, 1021310.81474734,  846364.16218315,\n",
       "          77206.4852859 ,  598474.09814662,  169200.18001164,\n",
       "          73757.25966134,   68560.19329018,  363573.18970532,\n",
       "         439100.02360785,   53273.19743239,  883179.93430519,\n",
       "          96841.00528099,   69705.57216142,  720189.94864194,\n",
       "        4682200.86959811,  157547.86592702,  598577.33917498,\n",
       "         103530.67260964,  219913.31885361,   69705.57216142,\n",
       "        3393838.48355355, 3747750.51209052,  137237.96352743,\n",
       "         205694.9146793 , 1343063.74316061,  105778.55398733,\n",
       "         113406.67661411, 2090467.44678197,  676486.18009377,\n",
       "        1653182.84275506,  151567.24115244,   82132.69602781,\n",
       "         450200.37816199,  123824.9061514 ,  841869.56483077,\n",
       "          95800.41312684,  118291.73959934, 2085585.62459758,\n",
       "        2372839.45720666,  247688.59858277, 1334681.62533764,\n",
       "         101692.7552419 ,  503472.70498147,   64636.19839218,\n",
       "         320805.50593895, 2623266.33617439,  174088.14927962,\n",
       "          72116.10600518,   80293.56098003,   89828.86338213,\n",
       "         219193.02374581,  328023.58124177,   60290.34778046,\n",
       "         516294.37658866,  236774.09865655,  163101.99672652,\n",
       "          95037.29701059, 4401076.73195112, 3540272.0939466 ,\n",
       "          80652.10214941,   64007.05829165,   91088.74649744,\n",
       "         451288.50611234, 2108891.7577948 ,  222324.39435632,\n",
       "         230969.76551419,  119869.73646973,  202629.14049356,\n",
       "        3372525.98485469,  194055.24146137,   82570.78055486,\n",
       "         107755.73232124,   98100.67856341,   64007.05829165,\n",
       "        1960017.88124655,  439387.54981251, 1311678.25959343,\n",
       "          52266.56751161,  612357.4359533 ,  277611.14005727,\n",
       "         100834.87848026,   52421.39380137,  320518.12600116,\n",
       "         622991.23928914,  905631.603816  , 2927834.24849227,\n",
       "         562358.56357488,  111381.83047422,  781476.31131047,\n",
       "         798596.64645281, 2310966.59797285, 5133725.87086224,\n",
       "        1281440.30372974,  171353.72979582,   89630.73883889,\n",
       "        1555941.58912764,  124073.12498191,   66108.35792552,\n",
       "         201459.85880026,  108993.88378627, 3134539.90969621,\n",
       "         148239.45542642,   53451.2389687 , 1307718.56304709,\n",
       "         214406.20173983,  194835.86837801, 3367422.08211024,\n",
       "         199766.90646407, 3823577.41600747,   68447.35094925,\n",
       "         739960.30606392,  506712.38290343,  150255.49362263,\n",
       "          62093.65018694,   64707.81660264,  151784.52074685,\n",
       "          80757.16568265,  177095.84545845,  210255.47503947,\n",
       "         360547.62990175,  181508.22558258,   55171.21699634]),\n",
       " array([3367422.08211024,  961138.88337016, 1097929.67851313,\n",
       "        2097270.81999921,  781476.31131047,  123133.23396977,\n",
       "          84085.01896248,  199222.92670303,  124854.97973097,\n",
       "        1072684.78820647,  657040.55769984, 1644701.47160779,\n",
       "         924735.72080619,  191699.58415836,  723218.39948755,\n",
       "        2395613.42888462,  113180.54906592, 1882765.92812296,\n",
       "          97286.47282983,  417270.42113431,  161482.3367577 ,\n",
       "          63495.73363115,  598057.42337284,  249411.25868881,\n",
       "         308424.71884273, 1319518.60852241,  202273.52740684,\n",
       "        1076683.13768137,  491636.41945325,  183406.6380314 ,\n",
       "        1740233.45816734,   86696.17528125,  440430.29773088,\n",
       "        2040944.13061099,  113375.45695331,  531746.29484356,\n",
       "         106207.35971699,  169560.79581187,  158101.0895316 ,\n",
       "          95037.29701059,  466355.50624629,  197548.63265325,\n",
       "         198810.0901353 ,  682743.4340129 ,  679265.22397749,\n",
       "         617812.91125278,  219182.85833837,   83712.10602149,\n",
       "        1206257.86593038,  213886.45118276,  225829.13565632,\n",
       "         573638.25784044,  213008.72404464, 1256363.95636108,\n",
       "        1114803.4971861 ,  743531.85320002,  491360.56067236,\n",
       "         844903.11979141, 1294842.58551457, 3224861.58056056,\n",
       "         620636.85839868, 1997931.01104478,  425408.70724227,\n",
       "         187911.96484382,  146932.14876274,   60290.34778046,\n",
       "        1553051.98103674,   61273.32234969,  434403.58150991,\n",
       "         295641.77082639, 3270724.75199692,  956695.86295249,\n",
       "          52421.39380137, 1193829.08957371,  109115.94774032,\n",
       "         114532.36574566, 1889840.31759081,  263117.7221664 ,\n",
       "         110722.44800397,  129405.69463079,  295288.27657346,\n",
       "        2208289.14524844,  127156.40131508, 2356552.01519359,\n",
       "          52421.39380137, 1582094.56763018,  450263.02347743,\n",
       "         180314.7209139 ,  207866.80825891,  237980.96274482,\n",
       "          92809.10191796,  217726.13148671,  588167.04361702,\n",
       "        2269569.15414991,  413549.08320869,  504238.61127942,\n",
       "         121235.38111888,  294348.6064813 ,  365600.03475309,\n",
       "        1021310.81474734, 1255348.78654001, 1121695.37239584,\n",
       "         236858.1355381 ,  180837.57476421,  390892.54870688,\n",
       "         112045.06953824, 3091294.61560971,   71489.84756224,\n",
       "        3949551.73068699,  117269.53815136,   76582.3994148 ,\n",
       "        1933601.27793109, 1675206.65522009,  294348.6064813 ,\n",
       "          97940.27258456,  945839.01956416,  610770.20862757,\n",
       "        1804885.34137216,  199766.90646407,   70766.27122776,\n",
       "          81754.00329429, 1021310.81474734,  846364.16218315,\n",
       "          77206.4852859 ,  598474.09814662,  169200.18001164,\n",
       "          73757.25966134,   68560.19329018,  363573.18970532,\n",
       "         439100.02360785,   53273.19743239,  883179.93430519,\n",
       "          96841.00528099,   69705.57216142,  720189.94864194,\n",
       "        4682200.86959811,  157547.86592702,  598577.33917498,\n",
       "         103530.67260964,  219913.31885361,   69705.57216142,\n",
       "        3393838.48355355, 3747750.51209052,  137237.96352743,\n",
       "         205694.9146793 , 1343063.74316061,  105778.55398733,\n",
       "         113406.67661411, 2090467.44678197,  676486.18009377,\n",
       "        1653182.84275506,  151567.24115244,   82132.69602781,\n",
       "         450200.37816199,  123824.9061514 ,  841869.56483077,\n",
       "          95800.41312684,  118291.73959934, 2085585.62459758,\n",
       "        2372839.45720666,  247688.59858277, 1334681.62533764,\n",
       "         101692.7552419 ,  503472.70498147,   64636.19839218,\n",
       "         320805.50593895, 2623266.33617439,  174088.14927962,\n",
       "          72116.10600518,   80293.56098003,   89828.86338213,\n",
       "         219193.02374581,  328023.58124177,   60290.34778046,\n",
       "         516294.37658866,  236774.09865655,  163101.99672652,\n",
       "          95037.29701059, 4401076.73195112, 3540272.0939466 ,\n",
       "          80652.10214941,   64007.05829165,   91088.74649744,\n",
       "         451288.50611234, 2108891.7577948 ,  222324.39435632,\n",
       "         230969.76551419,  119869.73646973,  202629.14049356,\n",
       "        3372525.98485469,  194055.24146137,   82570.78055486,\n",
       "         107755.73232124,   98100.67856341,   64007.05829165,\n",
       "        1960017.88124655,  439387.54981251, 1311678.25959343,\n",
       "          52266.56751161,  612357.4359533 ,  277611.14005727,\n",
       "         100834.87848026,   52421.39380137,  320518.12600116,\n",
       "         622991.23928914,  905631.603816  , 2927834.24849227,\n",
       "         562358.56357488,  111381.83047422,  781476.31131047,\n",
       "         798596.64645281, 2310966.59797285, 5133725.87086224,\n",
       "        1281440.30372974,  171353.72979582,   89630.73883889,\n",
       "        1555941.58912764,  124073.12498191,   66108.35792552,\n",
       "         201459.85880026,  108993.88378627, 3134539.90969621,\n",
       "         148239.45542642,   53451.2389687 , 1307718.56304709,\n",
       "         214406.20173983,  194835.86837801, 3367422.08211024,\n",
       "         199766.90646407, 3823577.41600747,   68447.35094925,\n",
       "         739960.30606392,  506712.38290343,  150255.49362263,\n",
       "          62093.65018694,   64707.81660264,  151784.52074685,\n",
       "          80757.16568265,  177095.84545845,  210255.47503947,\n",
       "         360547.62990175,  181508.22558258,   55171.21699634])]"
      ]
     },
     "execution_count": 41,
     "metadata": {},
     "output_type": "execute_result"
    }
   ],
   "source": [
    "preds"
   ]
  },
  {
   "cell_type": "markdown",
   "id": "98487dcc",
   "metadata": {},
   "source": [
    "이렇게 예측값들이 5세트가 있는것을 볼 수 있다."
   ]
  },
  {
   "cell_type": "code",
   "execution_count": 42,
   "id": "692e65b6",
   "metadata": {},
   "outputs": [],
   "source": [
    "import numpy as np # 예측값의 평균을 구하기위해 numpy를 임포트해주자."
   ]
  },
  {
   "cell_type": "code",
   "execution_count": 43,
   "id": "6efa255e",
   "metadata": {},
   "outputs": [],
   "source": [
    "kfoldLightGBM = submission.copy() # 답안지 복사."
   ]
  },
  {
   "cell_type": "code",
   "execution_count": 44,
   "id": "828364a4",
   "metadata": {},
   "outputs": [],
   "source": [
    "kfoldLightGBM['box_off_num'] = np.mean(preds, axis = 0) # mean 평균값함수,axis 축"
   ]
  },
  {
   "cell_type": "code",
   "execution_count": 45,
   "id": "040e55e9",
   "metadata": {
    "scrolled": true
   },
   "outputs": [
    {
     "data": {
      "text/html": [
       "<div>\n",
       "<style scoped>\n",
       "    .dataframe tbody tr th:only-of-type {\n",
       "        vertical-align: middle;\n",
       "    }\n",
       "\n",
       "    .dataframe tbody tr th {\n",
       "        vertical-align: top;\n",
       "    }\n",
       "\n",
       "    .dataframe thead th {\n",
       "        text-align: right;\n",
       "    }\n",
       "</style>\n",
       "<table border=\"1\" class=\"dataframe\">\n",
       "  <thead>\n",
       "    <tr style=\"text-align: right;\">\n",
       "      <th></th>\n",
       "      <th>title</th>\n",
       "      <th>box_off_num</th>\n",
       "    </tr>\n",
       "  </thead>\n",
       "  <tbody>\n",
       "    <tr>\n",
       "      <th>0</th>\n",
       "      <td>용서는 없다</td>\n",
       "      <td>3.367422e+06</td>\n",
       "    </tr>\n",
       "    <tr>\n",
       "      <th>1</th>\n",
       "      <td>아빠가 여자를 좋아해</td>\n",
       "      <td>9.611389e+05</td>\n",
       "    </tr>\n",
       "    <tr>\n",
       "      <th>2</th>\n",
       "      <td>하모니</td>\n",
       "      <td>1.097930e+06</td>\n",
       "    </tr>\n",
       "    <tr>\n",
       "      <th>3</th>\n",
       "      <td>의형제</td>\n",
       "      <td>2.097271e+06</td>\n",
       "    </tr>\n",
       "    <tr>\n",
       "      <th>4</th>\n",
       "      <td>평행 이론</td>\n",
       "      <td>7.814763e+05</td>\n",
       "    </tr>\n",
       "  </tbody>\n",
       "</table>\n",
       "</div>"
      ],
      "text/plain": [
       "         title   box_off_num\n",
       "0       용서는 없다  3.367422e+06\n",
       "1  아빠가 여자를 좋아해  9.611389e+05\n",
       "2          하모니  1.097930e+06\n",
       "3          의형제  2.097271e+06\n",
       "4        평행 이론  7.814763e+05"
      ]
     },
     "execution_count": 45,
     "metadata": {},
     "output_type": "execute_result"
    }
   ],
   "source": [
    "kfoldLightGBM.head()"
   ]
  },
  {
   "cell_type": "markdown",
   "id": "cb467a93",
   "metadata": {},
   "source": [
    "### 다음 모델을 사용해보자."
   ]
  },
  {
   "cell_type": "code",
   "execution_count": 46,
   "id": "3f8a6a2b",
   "metadata": {},
   "outputs": [
    {
     "data": {
      "text/plain": [
       "['time', 'dir_prev_num', 'num_staff', 'num_actor']"
      ]
     },
     "execution_count": 46,
     "metadata": {},
     "output_type": "execute_result"
    }
   ],
   "source": [
    "features"
   ]
  },
  {
   "cell_type": "markdown",
   "id": "ea796d25",
   "metadata": {},
   "source": [
    "genre와dir_prev_bfnum를 포함해서 활용해보도록 하자. 문제는 genre 데이터는 글자로 되어있으니 숫자로 변환하여 사용해야한다."
   ]
  },
  {
   "cell_type": "code",
   "execution_count": 47,
   "id": "70e5e0ea",
   "metadata": {},
   "outputs": [
    {
     "data": {
      "text/plain": [
       "0       액션\n",
       "1      느와르\n",
       "2       액션\n",
       "3      코미디\n",
       "4      코미디\n",
       "      ... \n",
       "595    드라마\n",
       "596    드라마\n",
       "597     공포\n",
       "598    느와르\n",
       "599     액션\n",
       "Name: genre, Length: 600, dtype: object"
      ]
     },
     "execution_count": 47,
     "metadata": {},
     "output_type": "execute_result"
    }
   ],
   "source": [
    "train.genre"
   ]
  },
  {
   "cell_type": "code",
   "execution_count": 48,
   "id": "8a5ab5b8",
   "metadata": {},
   "outputs": [],
   "source": [
    "from sklearn import preprocessing\n",
    "le = preprocessing.LabelEncoder() \n",
    "train['genre'] = le.fit_transform(train['genre'])"
   ]
  },
  {
   "cell_type": "markdown",
   "id": "5e64a970",
   "metadata": {},
   "source": [
    "sklearn에서 제공하는 labelEncoder를 활용해서 문자열을 숫자로 변환해보자."
   ]
  },
  {
   "cell_type": "code",
   "execution_count": 49,
   "id": "b7cce685",
   "metadata": {},
   "outputs": [
    {
     "data": {
      "text/plain": [
       "0      10\n",
       "1       2\n",
       "2      10\n",
       "3      11\n",
       "4      11\n",
       "       ..\n",
       "595     4\n",
       "596     4\n",
       "597     1\n",
       "598     2\n",
       "599    10\n",
       "Name: genre, Length: 600, dtype: int64"
      ]
     },
     "execution_count": 49,
     "metadata": {},
     "output_type": "execute_result"
    }
   ],
   "source": [
    "train['genre']"
   ]
  },
  {
   "cell_type": "markdown",
   "id": "a3bfe7f3",
   "metadata": {},
   "source": [
    "숫자로 변환되있는걸 확인 할 수 있다. test셋도 변환해주자."
   ]
  },
  {
   "cell_type": "code",
   "execution_count": 50,
   "id": "7af3f250",
   "metadata": {},
   "outputs": [],
   "source": [
    "test['genre'] = le.transform(test['genre'])"
   ]
  },
  {
   "cell_type": "markdown",
   "id": "65ee4569",
   "metadata": {},
   "source": [
    "위 fit_transfirm인데 test셋은 transform으로만 변환하였다. test셋에 또 fit(훈련하다)을 넣어주면 결과 값이 틀려질수 있으니 transform만 해야된다."
   ]
  },
  {
   "cell_type": "code",
   "execution_count": 51,
   "id": "62b2cb27",
   "metadata": {},
   "outputs": [
    {
     "data": {
      "text/plain": [
       "0       2\n",
       "1       5\n",
       "2       4\n",
       "3      10\n",
       "4       1\n",
       "       ..\n",
       "238     4\n",
       "239     3\n",
       "240     2\n",
       "241     4\n",
       "242     5\n",
       "Name: genre, Length: 243, dtype: int64"
      ]
     },
     "execution_count": 51,
     "metadata": {},
     "output_type": "execute_result"
    }
   ],
   "source": [
    "test['genre']"
   ]
  },
  {
   "cell_type": "markdown",
   "id": "a041ff36",
   "metadata": {},
   "source": [
    "test셋도 변환될걸 확인 할 수 있다."
   ]
  },
  {
   "cell_type": "code",
   "execution_count": 52,
   "id": "51b2c827",
   "metadata": {},
   "outputs": [],
   "source": [
    "features = ['time', 'dir_prev_num', 'num_staff', 'num_actor','dir_prev_bfnum', 'genre']"
   ]
  },
  {
   "cell_type": "markdown",
   "id": "9b3c3610",
   "metadata": {},
   "source": [
    "features에 전처리된 dir_prev_bfnum와 문자열을 숫자로 변환한 genre를 추가해주자."
   ]
  },
  {
   "cell_type": "code",
   "execution_count": 53,
   "id": "ff710376",
   "metadata": {},
   "outputs": [],
   "source": [
    "X_train, X_test, y_train = train[features], test[features], train[target]"
   ]
  },
  {
   "cell_type": "markdown",
   "id": "fe97b4a9",
   "metadata": {},
   "source": [
    "컬럼이 2개 추가되어 위와 같이 세팅을 해주면 된다."
   ]
  },
  {
   "cell_type": "code",
   "execution_count": 54,
   "id": "fda9694b",
   "metadata": {},
   "outputs": [
    {
     "name": "stdout",
     "output_type": "stream",
     "text": [
      "Training until validation scores don't improve for 100 rounds\n",
      "[100]\tvalid_0's l2: 2.62067e+12\n",
      "Early stopping, best iteration is:\n",
      "[9]\tvalid_0's l2: 2.42668e+12\n",
      "Training until validation scores don't improve for 100 rounds\n",
      "[100]\tvalid_0's l2: 4.39227e+12\n",
      "Early stopping, best iteration is:\n",
      "[23]\tvalid_0's l2: 3.97173e+12\n",
      "Training until validation scores don't improve for 100 rounds\n",
      "[100]\tvalid_0's l2: 3.29841e+12\n",
      "Early stopping, best iteration is:\n",
      "[10]\tvalid_0's l2: 2.53643e+12\n",
      "Training until validation scores don't improve for 100 rounds\n",
      "[100]\tvalid_0's l2: 1.56499e+12\n",
      "Early stopping, best iteration is:\n",
      "[16]\tvalid_0's l2: 1.21201e+12\n",
      "Training until validation scores don't improve for 100 rounds\n",
      "[100]\tvalid_0's l2: 1.60118e+12\n",
      "Early stopping, best iteration is:\n",
      "[29]\tvalid_0's l2: 1.47528e+12\n"
     ]
    }
   ],
   "source": [
    "model = lgb.LGBMRegressor(random_state=777, n_estimators=1000)\n",
    "\n",
    "models = []\n",
    "\n",
    "for train_idx, val_idx in k_fold.split(X_train):\n",
    "    x_t = X_train.iloc[train_idx]\n",
    "    y_t = y_train.iloc[train_idx]\n",
    "    x_val = X_train.iloc[val_idx]\n",
    "    y_val = y_train.iloc[val_idx]\n",
    "    \n",
    "    models.append(model.fit(x_t, y_t, eval_set=(x_val, y_val), early_stopping_rounds=100, verbose = 100))"
   ]
  },
  {
   "cell_type": "code",
   "execution_count": 55,
   "id": "914b944b",
   "metadata": {},
   "outputs": [
    {
     "data": {
      "text/html": [
       "<div>\n",
       "<style scoped>\n",
       "    .dataframe tbody tr th:only-of-type {\n",
       "        vertical-align: middle;\n",
       "    }\n",
       "\n",
       "    .dataframe tbody tr th {\n",
       "        vertical-align: top;\n",
       "    }\n",
       "\n",
       "    .dataframe thead th {\n",
       "        text-align: right;\n",
       "    }\n",
       "</style>\n",
       "<table border=\"1\" class=\"dataframe\">\n",
       "  <thead>\n",
       "    <tr style=\"text-align: right;\">\n",
       "      <th></th>\n",
       "      <th>time</th>\n",
       "      <th>dir_prev_num</th>\n",
       "      <th>num_staff</th>\n",
       "      <th>num_actor</th>\n",
       "      <th>dir_prev_bfnum</th>\n",
       "      <th>genre</th>\n",
       "    </tr>\n",
       "  </thead>\n",
       "  <tbody>\n",
       "    <tr>\n",
       "      <th>0</th>\n",
       "      <td>125</td>\n",
       "      <td>2</td>\n",
       "      <td>304</td>\n",
       "      <td>3</td>\n",
       "      <td>3.005290e+05</td>\n",
       "      <td>2</td>\n",
       "    </tr>\n",
       "    <tr>\n",
       "      <th>1</th>\n",
       "      <td>113</td>\n",
       "      <td>4</td>\n",
       "      <td>275</td>\n",
       "      <td>3</td>\n",
       "      <td>3.427002e+05</td>\n",
       "      <td>5</td>\n",
       "    </tr>\n",
       "    <tr>\n",
       "      <th>2</th>\n",
       "      <td>115</td>\n",
       "      <td>3</td>\n",
       "      <td>419</td>\n",
       "      <td>7</td>\n",
       "      <td>4.206611e+06</td>\n",
       "      <td>4</td>\n",
       "    </tr>\n",
       "    <tr>\n",
       "      <th>3</th>\n",
       "      <td>116</td>\n",
       "      <td>2</td>\n",
       "      <td>408</td>\n",
       "      <td>2</td>\n",
       "      <td>6.913420e+05</td>\n",
       "      <td>10</td>\n",
       "    </tr>\n",
       "    <tr>\n",
       "      <th>4</th>\n",
       "      <td>110</td>\n",
       "      <td>1</td>\n",
       "      <td>380</td>\n",
       "      <td>1</td>\n",
       "      <td>3.173800e+04</td>\n",
       "      <td>1</td>\n",
       "    </tr>\n",
       "  </tbody>\n",
       "</table>\n",
       "</div>"
      ],
      "text/plain": [
       "   time  dir_prev_num  num_staff  num_actor  dir_prev_bfnum  genre\n",
       "0   125             2        304          3    3.005290e+05      2\n",
       "1   113             4        275          3    3.427002e+05      5\n",
       "2   115             3        419          7    4.206611e+06      4\n",
       "3   116             2        408          2    6.913420e+05     10\n",
       "4   110             1        380          1    3.173800e+04      1"
      ]
     },
     "execution_count": 55,
     "metadata": {},
     "output_type": "execute_result"
    }
   ],
   "source": [
    "X_test.head()"
   ]
  },
  {
   "cell_type": "code",
   "execution_count": 56,
   "id": "3fc6adbf",
   "metadata": {},
   "outputs": [
    {
     "data": {
      "text/plain": [
       "5"
      ]
     },
     "execution_count": 56,
     "metadata": {},
     "output_type": "execute_result"
    }
   ],
   "source": [
    "preds = []\n",
    "for model in models:\n",
    "    preds.append(model.predict(X_test))\n",
    "len(preds)"
   ]
  },
  {
   "cell_type": "code",
   "execution_count": 57,
   "id": "9743fb3d",
   "metadata": {},
   "outputs": [],
   "source": [
    "feLightGBM = submission.copy()"
   ]
  },
  {
   "cell_type": "code",
   "execution_count": 58,
   "id": "b762a9e0",
   "metadata": {},
   "outputs": [],
   "source": [
    "feLightGBM['box_off_num'] = np.mean(preds, axis = 0)"
   ]
  },
  {
   "cell_type": "code",
   "execution_count": 59,
   "id": "2e58db10",
   "metadata": {
    "scrolled": true
   },
   "outputs": [
    {
     "data": {
      "text/html": [
       "<div>\n",
       "<style scoped>\n",
       "    .dataframe tbody tr th:only-of-type {\n",
       "        vertical-align: middle;\n",
       "    }\n",
       "\n",
       "    .dataframe tbody tr th {\n",
       "        vertical-align: top;\n",
       "    }\n",
       "\n",
       "    .dataframe thead th {\n",
       "        text-align: right;\n",
       "    }\n",
       "</style>\n",
       "<table border=\"1\" class=\"dataframe\">\n",
       "  <thead>\n",
       "    <tr style=\"text-align: right;\">\n",
       "      <th></th>\n",
       "      <th>title</th>\n",
       "      <th>box_off_num</th>\n",
       "    </tr>\n",
       "  </thead>\n",
       "  <tbody>\n",
       "    <tr>\n",
       "      <th>0</th>\n",
       "      <td>용서는 없다</td>\n",
       "      <td>3.395493e+06</td>\n",
       "    </tr>\n",
       "    <tr>\n",
       "      <th>1</th>\n",
       "      <td>아빠가 여자를 좋아해</td>\n",
       "      <td>8.235439e+05</td>\n",
       "    </tr>\n",
       "    <tr>\n",
       "      <th>2</th>\n",
       "      <td>하모니</td>\n",
       "      <td>1.162055e+06</td>\n",
       "    </tr>\n",
       "    <tr>\n",
       "      <th>3</th>\n",
       "      <td>의형제</td>\n",
       "      <td>2.184689e+06</td>\n",
       "    </tr>\n",
       "    <tr>\n",
       "      <th>4</th>\n",
       "      <td>평행 이론</td>\n",
       "      <td>8.093288e+05</td>\n",
       "    </tr>\n",
       "  </tbody>\n",
       "</table>\n",
       "</div>"
      ],
      "text/plain": [
       "         title   box_off_num\n",
       "0       용서는 없다  3.395493e+06\n",
       "1  아빠가 여자를 좋아해  8.235439e+05\n",
       "2          하모니  1.162055e+06\n",
       "3          의형제  2.184689e+06\n",
       "4        평행 이론  8.093288e+05"
      ]
     },
     "execution_count": 59,
     "metadata": {},
     "output_type": "execute_result"
    }
   ],
   "source": [
    "feLightGBM.head()"
   ]
  },
  {
   "cell_type": "markdown",
   "id": "2ce1a499",
   "metadata": {},
   "source": [
    "## Grid Search 모델 튜닝에 제일 많이 쓰는것"
   ]
  },
  {
   "cell_type": "code",
   "execution_count": 60,
   "id": "14c65dbb",
   "metadata": {},
   "outputs": [],
   "source": [
    "from sklearn.model_selection import GridSearchCV"
   ]
  },
  {
   "cell_type": "code",
   "execution_count": 61,
   "id": "0a7f2233",
   "metadata": {},
   "outputs": [],
   "source": [
    "model = lgb.LGBMRegressor(random_state=777, n_estimators=1000)"
   ]
  },
  {
   "cell_type": "code",
   "execution_count": 62,
   "id": "f84aa796",
   "metadata": {},
   "outputs": [],
   "source": [
    "params = {\n",
    "    'learning_rate': [0.1, 0.01, 0.003],\n",
    "    'min_child_samples': [20, 30]}\n",
    "\n",
    "gs = GridSearchCV(estimator=model,\n",
    "                 param_grid=params,\n",
    "                  scoring= 'neg_mean_squared_error',\n",
    "                  cv = k_fold)"
   ]
  },
  {
   "cell_type": "markdown",
   "id": "2593c25b",
   "metadata": {},
   "source": [
    "params에서 learning_rate는 모델링을 하는 간격으로, 값이 적을수록 점점 더 미세하게 모델의 변화가 이루어진다로 생각하면 된다.\n",
    " \n",
    "scoring을 rmse로 한 이후는 현재 이 대회의 평가지표가 rmse값이기 때문에 이렇게 설정하였습니다."
   ]
  },
  {
   "cell_type": "code",
   "execution_count": 63,
   "id": "9e305f0f",
   "metadata": {},
   "outputs": [
    {
     "data": {
      "text/plain": [
       "GridSearchCV(cv=KFold(n_splits=5, random_state=777, shuffle=True),\n",
       "             estimator=LGBMRegressor(n_estimators=1000, random_state=777),\n",
       "             param_grid={'learning_rate': [0.1, 0.01, 0.003],\n",
       "                         'min_child_samples': [20, 30]},\n",
       "             scoring='neg_mean_squared_error')"
      ]
     },
     "execution_count": 63,
     "metadata": {},
     "output_type": "execute_result"
    }
   ],
   "source": [
    "gs.fit(X_train, y_train)"
   ]
  },
  {
   "cell_type": "markdown",
   "id": "87e79aac",
   "metadata": {},
   "source": [
    "학습을 진행시켜주도록 하자"
   ]
  },
  {
   "cell_type": "code",
   "execution_count": 64,
   "id": "dede7088",
   "metadata": {},
   "outputs": [
    {
     "data": {
      "text/plain": [
       "{'learning_rate': 0.003, 'min_child_samples': 30}"
      ]
     },
     "execution_count": 64,
     "metadata": {},
     "output_type": "execute_result"
    }
   ],
   "source": [
    "gs.best_params_"
   ]
  },
  {
   "cell_type": "markdown",
   "id": "95bc3cfa",
   "metadata": {},
   "source": [
    "gs.best_params_ 6개의 조합중 가장 좋았던 조합을 확인 할 수 있다. 위 가장 좋은 성능을 적용하여 모델링을 해주었다."
   ]
  },
  {
   "cell_type": "code",
   "execution_count": 65,
   "id": "5f8da37e",
   "metadata": {},
   "outputs": [
    {
     "name": "stdout",
     "output_type": "stream",
     "text": [
      "Training until validation scores don't improve for 100 rounds\n",
      "[100]\tvalid_0's l2: 2.56673e+12\n",
      "[200]\tvalid_0's l2: 2.45583e+12\n",
      "[300]\tvalid_0's l2: 2.42575e+12\n",
      "[400]\tvalid_0's l2: 2.43392e+12\n",
      "Early stopping, best iteration is:\n",
      "[335]\tvalid_0's l2: 2.42348e+12\n",
      "Training until validation scores don't improve for 100 rounds\n",
      "[100]\tvalid_0's l2: 4.89194e+12\n",
      "[200]\tvalid_0's l2: 4.40922e+12\n",
      "[300]\tvalid_0's l2: 4.19146e+12\n",
      "[400]\tvalid_0's l2: 4.05951e+12\n",
      "[500]\tvalid_0's l2: 3.96931e+12\n",
      "[600]\tvalid_0's l2: 3.91727e+12\n",
      "[700]\tvalid_0's l2: 3.88462e+12\n",
      "[800]\tvalid_0's l2: 3.87695e+12\n",
      "[900]\tvalid_0's l2: 3.87088e+12\n",
      "Early stopping, best iteration is:\n",
      "[876]\tvalid_0's l2: 3.87035e+12\n",
      "Training until validation scores don't improve for 100 rounds\n",
      "[100]\tvalid_0's l2: 3.14361e+12\n",
      "[200]\tvalid_0's l2: 2.79286e+12\n",
      "[300]\tvalid_0's l2: 2.59302e+12\n",
      "[400]\tvalid_0's l2: 2.47608e+12\n",
      "[500]\tvalid_0's l2: 2.40386e+12\n",
      "[600]\tvalid_0's l2: 2.36407e+12\n",
      "[700]\tvalid_0's l2: 2.38505e+12\n",
      "Early stopping, best iteration is:\n",
      "[647]\tvalid_0's l2: 2.35685e+12\n",
      "Training until validation scores don't improve for 100 rounds\n",
      "[100]\tvalid_0's l2: 1.60592e+12\n",
      "[200]\tvalid_0's l2: 1.40227e+12\n",
      "[300]\tvalid_0's l2: 1.30053e+12\n",
      "[400]\tvalid_0's l2: 1.25184e+12\n",
      "[500]\tvalid_0's l2: 1.23543e+12\n",
      "[600]\tvalid_0's l2: 1.23595e+12\n",
      "Early stopping, best iteration is:\n",
      "[536]\tvalid_0's l2: 1.23368e+12\n",
      "Training until validation scores don't improve for 100 rounds\n",
      "[100]\tvalid_0's l2: 1.96107e+12\n",
      "[200]\tvalid_0's l2: 1.75478e+12\n",
      "[300]\tvalid_0's l2: 1.64513e+12\n",
      "[400]\tvalid_0's l2: 1.58132e+12\n",
      "[500]\tvalid_0's l2: 1.54801e+12\n",
      "[600]\tvalid_0's l2: 1.52159e+12\n",
      "[700]\tvalid_0's l2: 1.50655e+12\n",
      "[800]\tvalid_0's l2: 1.49834e+12\n",
      "[900]\tvalid_0's l2: 1.50018e+12\n",
      "Early stopping, best iteration is:\n",
      "[873]\tvalid_0's l2: 1.49621e+12\n"
     ]
    }
   ],
   "source": [
    "model = lgb.LGBMRegressor(random_state=777,n_estimators=1000, learning_rate=0.003, min_child_samples=30)\n",
    "\n",
    "models = []\n",
    "\n",
    "for train_idx, val_idx in k_fold.split(X_train):\n",
    "    x_t = X_train.iloc[train_idx]\n",
    "    y_t = y_train.iloc[train_idx]\n",
    "    x_val = X_train.iloc[val_idx]\n",
    "    y_val = y_train.iloc[val_idx]\n",
    "    \n",
    "    models.append(model.fit(x_t, y_t, eval_set=(x_val, y_val), early_stopping_rounds=100, verbose = 100))"
   ]
  },
  {
   "cell_type": "code",
   "execution_count": 66,
   "id": "146c476b",
   "metadata": {},
   "outputs": [],
   "source": [
    "preds = []\n",
    "\n",
    "for model in models:\n",
    "    preds.append(model.predict(X_test))"
   ]
  },
  {
   "cell_type": "code",
   "execution_count": 67,
   "id": "79c613d0",
   "metadata": {},
   "outputs": [],
   "source": [
    "gslgbm = submission.copy()"
   ]
  },
  {
   "cell_type": "code",
   "execution_count": 68,
   "id": "26dd1937",
   "metadata": {},
   "outputs": [],
   "source": [
    "gslgbm['box_off_num'] = np.mean(preds, axis=0)"
   ]
  },
  {
   "cell_type": "code",
   "execution_count": 69,
   "id": "11c1e88b",
   "metadata": {},
   "outputs": [
    {
     "data": {
      "text/html": [
       "<div>\n",
       "<style scoped>\n",
       "    .dataframe tbody tr th:only-of-type {\n",
       "        vertical-align: middle;\n",
       "    }\n",
       "\n",
       "    .dataframe tbody tr th {\n",
       "        vertical-align: top;\n",
       "    }\n",
       "\n",
       "    .dataframe thead th {\n",
       "        text-align: right;\n",
       "    }\n",
       "</style>\n",
       "<table border=\"1\" class=\"dataframe\">\n",
       "  <thead>\n",
       "    <tr style=\"text-align: right;\">\n",
       "      <th></th>\n",
       "      <th>title</th>\n",
       "      <th>box_off_num</th>\n",
       "    </tr>\n",
       "  </thead>\n",
       "  <tbody>\n",
       "    <tr>\n",
       "      <th>0</th>\n",
       "      <td>용서는 없다</td>\n",
       "      <td>2.974960e+06</td>\n",
       "    </tr>\n",
       "    <tr>\n",
       "      <th>1</th>\n",
       "      <td>아빠가 여자를 좋아해</td>\n",
       "      <td>9.823131e+05</td>\n",
       "    </tr>\n",
       "    <tr>\n",
       "      <th>2</th>\n",
       "      <td>하모니</td>\n",
       "      <td>1.283210e+06</td>\n",
       "    </tr>\n",
       "    <tr>\n",
       "      <th>3</th>\n",
       "      <td>의형제</td>\n",
       "      <td>1.681758e+06</td>\n",
       "    </tr>\n",
       "    <tr>\n",
       "      <th>4</th>\n",
       "      <td>평행 이론</td>\n",
       "      <td>9.095845e+05</td>\n",
       "    </tr>\n",
       "    <tr>\n",
       "      <th>...</th>\n",
       "      <td>...</td>\n",
       "      <td>...</td>\n",
       "    </tr>\n",
       "    <tr>\n",
       "      <th>238</th>\n",
       "      <td>해에게서 소년에게</td>\n",
       "      <td>7.886130e+04</td>\n",
       "    </tr>\n",
       "    <tr>\n",
       "      <th>239</th>\n",
       "      <td>울보 권투부</td>\n",
       "      <td>1.276022e+05</td>\n",
       "    </tr>\n",
       "    <tr>\n",
       "      <th>240</th>\n",
       "      <td>어떤살인</td>\n",
       "      <td>4.470473e+05</td>\n",
       "    </tr>\n",
       "    <tr>\n",
       "      <th>241</th>\n",
       "      <td>말하지 못한 비밀</td>\n",
       "      <td>2.762433e+05</td>\n",
       "    </tr>\n",
       "    <tr>\n",
       "      <th>242</th>\n",
       "      <td>조선안방 스캔들-칠거지악 2</td>\n",
       "      <td>5.807220e+04</td>\n",
       "    </tr>\n",
       "  </tbody>\n",
       "</table>\n",
       "<p>243 rows × 2 columns</p>\n",
       "</div>"
      ],
      "text/plain": [
       "               title   box_off_num\n",
       "0             용서는 없다  2.974960e+06\n",
       "1        아빠가 여자를 좋아해  9.823131e+05\n",
       "2                하모니  1.283210e+06\n",
       "3                의형제  1.681758e+06\n",
       "4              평행 이론  9.095845e+05\n",
       "..               ...           ...\n",
       "238        해에게서 소년에게  7.886130e+04\n",
       "239           울보 권투부  1.276022e+05\n",
       "240             어떤살인  4.470473e+05\n",
       "241        말하지 못한 비밀  2.762433e+05\n",
       "242  조선안방 스캔들-칠거지악 2  5.807220e+04\n",
       "\n",
       "[243 rows x 2 columns]"
      ]
     },
     "execution_count": 69,
     "metadata": {},
     "output_type": "execute_result"
    }
   ],
   "source": [
    "gslgbm"
   ]
  },
  {
   "cell_type": "code",
   "execution_count": 70,
   "id": "da8435e4",
   "metadata": {},
   "outputs": [],
   "source": [
    "gslgbm.to_csv('gslgbm.csv', index=False)"
   ]
  },
  {
   "cell_type": "markdown",
   "id": "0788c837",
   "metadata": {},
   "source": [
    "이렇게 저장하고 제출까지 완료해보자."
   ]
  },
  {
   "cell_type": "markdown",
   "id": "ccb2a9b5",
   "metadata": {},
   "source": [
    "아직 미숙하지만 데이콘 교육자료에 동영상시청하며 하나하나 해보며 많은 교육이 된거 같아 좋다. 다른사람들은 어떻게 했는지 보면서 하나하나 배워 나가 재미있었던거 같다. 많은 배움이 있으면 더욱 설명을 잘써서 올려보도록 하겠다."
   ]
  },
  {
   "cell_type": "markdown",
   "id": "36ecba05",
   "metadata": {},
   "source": [
    "출처 : 데이콘 https://dacon.io/competitions/open/235536/talkboard\n",
    " - 청청이 :https://hangjastar.tistory.com/162?category=962493\n",
    " - Dable  :https://smstudyroom.tistory.com/33?category=926161"
   ]
  }
 ],
 "metadata": {
  "kernelspec": {
   "display_name": "Python 3 (ipykernel)",
   "language": "python",
   "name": "python3"
  },
  "language_info": {
   "codemirror_mode": {
    "name": "ipython",
    "version": 3
   },
   "file_extension": ".py",
   "mimetype": "text/x-python",
   "name": "python",
   "nbconvert_exporter": "python",
   "pygments_lexer": "ipython3",
   "version": "3.8.12"
  }
 },
 "nbformat": 4,
 "nbformat_minor": 5
}
